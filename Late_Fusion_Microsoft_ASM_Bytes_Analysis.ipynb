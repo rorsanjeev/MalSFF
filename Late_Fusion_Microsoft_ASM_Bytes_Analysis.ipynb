{
 "cells": [
  {
   "cell_type": "code",
   "execution_count": 5,
   "metadata": {},
   "outputs": [],
   "source": [
    "import os\n",
    "import cv2\n",
    "import glob\n",
    "import random\n",
    "import warnings\n",
    "import numpy as np\n",
    "from PIL import Image\n",
    "import disarray as da\n",
    "import seaborn as sns\n",
    "import tensorflow as tf\n",
    "from imutils import paths\n",
    "from tensorflow.keras.utils import load_img, img_to_array\n",
    "from itertools import cycle\n",
    "import matplotlib.pyplot as plt\n",
    "warnings.filterwarnings('ignore')\n",
    "from tensorflow.keras.preprocessing import image\n",
    "from tensorflow.keras.applications.mobilenet import MobileNet, preprocess_input"
   ]
  },
  {
   "cell_type": "code",
   "execution_count": 6,
   "metadata": {},
   "outputs": [],
   "source": [
    "import os\n",
    "import glob\n",
    "import numpy as np\n",
    "import tensorflow as tf\n",
    "from tensorflow.keras.utils import load_img, img_to_array\n",
    "from tensorflow.keras.applications.mobilenet import MobileNet, preprocess_input\n",
    "from tensorflow.keras.models import Sequential\n",
    "from tensorflow.keras.layers import Dense, Dropout\n",
    "from sklearn.model_selection import train_test_split\n",
    "from sklearn.metrics import accuracy_score, classification_report, confusion_matrix\n",
    "import matplotlib.pyplot as plt\n",
    "import seaborn as sns"
   ]
  },
  {
   "cell_type": "markdown",
   "metadata": {},
   "source": [
    "## ASM"
   ]
  },
  {
   "cell_type": "code",
   "execution_count": 7,
   "metadata": {},
   "outputs": [],
   "source": [
    "base_path = '/home/sanjeev/ML_Dataset/microsoft_dataset/asm_img/'"
   ]
  },
  {
   "cell_type": "code",
   "execution_count": 8,
   "metadata": {},
   "outputs": [],
   "source": [
    "cur_dir = os.getcwd()\n",
    "os.chdir(base_path)"
   ]
  },
  {
   "cell_type": "code",
   "execution_count": 9,
   "metadata": {},
   "outputs": [
    {
     "data": {
      "text/plain": [
       "'/home/sanjeev/ML_Dataset/microsoft_dataset/asm_img'"
      ]
     },
     "execution_count": 9,
     "metadata": {},
     "output_type": "execute_result"
    }
   ],
   "source": [
    "cur_dir"
   ]
  },
  {
   "cell_type": "code",
   "execution_count": 10,
   "metadata": {},
   "outputs": [],
   "source": [
    "img_list = glob.glob(os.path.join(base_path, '*/*.png'))"
   ]
  },
  {
   "cell_type": "code",
   "execution_count": 11,
   "metadata": {},
   "outputs": [],
   "source": [
    "categories = os.listdir(base_path)\n",
    "labels = [i for i in range(len(categories))]\n",
    "label_dict = dict(zip(categories, labels))"
   ]
  },
  {
   "cell_type": "code",
   "execution_count": 12,
   "metadata": {},
   "outputs": [
    {
     "name": "stdout",
     "output_type": "stream",
     "text": [
      "Label: 0\tFamily: .ipynb_checkpoints\tNumber of images: 0\n",
      "Label: 1\tFamily:           Gatak\tNumber of images: 1013\n",
      "Label: 2\tFamily:    Kelihos_ver1\tNumber of images: 398\n",
      "Label: 3\tFamily:    Kelihos_ver3\tNumber of images: 2942\n",
      "Label: 4\tFamily:        Lollipop\tNumber of images: 2478\n",
      "Label: 5\tFamily:  Obfuscator.ACY\tNumber of images: 1228\n",
      "Label: 6\tFamily:          Ramnit\tNumber of images: 1541\n",
      "Label: 7\tFamily:           Simda\tNumber of images: 42\n",
      "Label: 8\tFamily:          Tracur\tNumber of images: 751\n",
      "Label: 9\tFamily:           Vundo\tNumber of images: 475\n"
     ]
    }
   ],
   "source": [
    "cur_dir = os.getcwd()\n",
    "os.chdir(base_path)  # the parent folder with sub-folders\n",
    "\n",
    "# Get number of samples per family\n",
    "list_fams = sorted(os.listdir(os.getcwd()), key=str.lower)  # vector of strings with family names\n",
    "no_imgs = []  # No. of samples per family\n",
    "\n",
    "for i in range(len(list_fams)):\n",
    "    os.chdir(list_fams[i])\n",
    "    len1 = len(glob.glob('*.png'))  # assuming the images are stored as 'png'\n",
    "    no_imgs.append(len1)\n",
    "    os.chdir('..')\n",
    "num_samples = np.sum(no_imgs)  # total number of all samples\n",
    "\n",
    "# Compute the labels\n",
    "y = np.zeros(num_samples)\n",
    "pos = 0\n",
    "label = 0\n",
    "fam = []\n",
    "for i in no_imgs:\n",
    "    print (\"Label:%2d\\tFamily: %15s\\tNumber of images: %d\" % (label, list_fams[label], i))\n",
    "    for j in range(i):\n",
    "        y[pos] = label\n",
    "        pos += 1\n",
    "        fam.append(list_fams[label])\n",
    "    label += 1\n",
    "num_classes = label"
   ]
  },
  {
   "cell_type": "code",
   "execution_count": 30,
   "metadata": {},
   "outputs": [],
   "source": [
    "asm_features = np.load('/home/sanjeev/DL_Exp_Malware/DL_Prasad_Exp/Microsoft_PoC/Experiment_2/asm_plots/MobileNetV3_Large_X.npy')\n",
    "y = np.load('/home/sanjeev/DL_Exp_Malware/DL_Prasad_Exp/Microsoft_PoC/Experiment_2/asm_plots/MobileNetV3_Large_y.npy')"
   ]
  },
  {
   "cell_type": "code",
   "execution_count": 31,
   "metadata": {},
   "outputs": [
    {
     "data": {
      "text/plain": [
       "(10868, 1024)"
      ]
     },
     "execution_count": 31,
     "metadata": {},
     "output_type": "execute_result"
    }
   ],
   "source": [
    "x.shape"
   ]
  },
  {
   "cell_type": "code",
   "execution_count": 32,
   "metadata": {},
   "outputs": [],
   "source": [
    "bytes_fetaures=np.load('/home/sanjeev/DL_Exp_Malware/DL_Prasad_Exp/Microsoft_PoC/Experiment_2/bytes_plots/MobileNetV3_Large_X.npy')"
   ]
  },
  {
   "cell_type": "code",
   "execution_count": 33,
   "metadata": {},
   "outputs": [],
   "source": [
    "X_asm_train, X_asm_test, y_train, y_test = train_test_split(asm_features, y, test_size=0.2, random_state=42)\n",
    "X_byte_train, X_byte_test, _, _ = train_test_split(bytes_fetaures, y, test_size=0.2, random_state=42)"
   ]
  },
  {
   "cell_type": "markdown",
   "metadata": {},
   "source": [
    "## mlp"
   ]
  },
  {
   "cell_type": "code",
   "execution_count": 35,
   "metadata": {},
   "outputs": [],
   "source": [
    "import pandas as pd\n",
    "import disarray as da\n",
    "from sklearn import tree\n",
    "from sklearn import metrics\n",
    "from sklearn.neural_network import MLPClassifier\n",
    "from sklearn.model_selection import GridSearchCV\n",
    "from sklearn.neighbors import KNeighborsClassifier\n",
    "from sklearn.model_selection import cross_val_score\n",
    "from sklearn.model_selection import train_test_split\n",
    "from sklearn.metrics import precision_recall_fscore_support\n",
    "from sklearn.preprocessing import StandardScaler, OneHotEncoder\n",
    "from sklearn.metrics import accuracy_score,classification_report,confusion_matrix, matthews_corrcoef, roc_curve, auc"
   ]
  },
  {
   "cell_type": "code",
   "execution_count": 40,
   "metadata": {},
   "outputs": [
    {
     "name": "stdout",
     "output_type": "stream",
     "text": [
      "CPU times: user 43min 44s, sys: 44min 55s, total: 1h 28min 40s\n",
      "Wall time: 1min 23s\n"
     ]
    },
    {
     "data": {
      "text/plain": [
       "MLPClassifier(hidden_layer_sizes=(256, 128), max_iter=300, random_state=42)"
      ]
     },
     "execution_count": 40,
     "metadata": {},
     "output_type": "execute_result"
    }
   ],
   "source": [
    "%%time\n",
    "mlp_asm = MLPClassifier(hidden_layer_sizes=(256,128), max_iter=300, random_state=42)\n",
    "mlp_asm.fit(X_asm_train, y_train)"
   ]
  },
  {
   "cell_type": "code",
   "execution_count": 37,
   "metadata": {},
   "outputs": [],
   "source": [
    "# hidden_layer_sizes=(256,128)\n",
    "# → Your network has 2 hidden layers:\n",
    "\n",
    "# First hidden layer: 256 neurons\n",
    "\n",
    "# Second hidden layer: 128 neurons\n",
    "\n",
    "# If you write hidden_layer_sizes=(100,)\n",
    "# → One hidden layer with 100 neurons\n",
    "\n",
    "# If you write hidden_layer_sizes=(512,256,128)\n",
    "# → Three hidden layers: 512 → 256 → 128\n",
    "\n",
    "# If you leave it default (hidden_layer_sizes=(100,))\n",
    "# → One hidden layer with 100 neurons"
   ]
  },
  {
   "cell_type": "code",
   "execution_count": 39,
   "metadata": {},
   "outputs": [
    {
     "name": "stdout",
     "output_type": "stream",
     "text": [
      "CPU times: user 48min 16s, sys: 49min 16s, total: 1h 37min 32s\n",
      "Wall time: 1min 35s\n"
     ]
    },
    {
     "data": {
      "text/plain": [
       "MLPClassifier(hidden_layer_sizes=(256, 128), max_iter=300, random_state=42)"
      ]
     },
     "execution_count": 39,
     "metadata": {},
     "output_type": "execute_result"
    }
   ],
   "source": [
    "%%time\n",
    "mlp_byte = MLPClassifier(hidden_layer_sizes=(256,128), max_iter=300, random_state=42)\n",
    "mlp_byte.fit(X_byte_train, y_train)"
   ]
  },
  {
   "cell_type": "code",
   "execution_count": 54,
   "metadata": {},
   "outputs": [],
   "source": [
    "p_asm_train = mlp_asm.predict_proba(X_asm_train)"
   ]
  },
  {
   "cell_type": "code",
   "execution_count": 56,
   "metadata": {},
   "outputs": [],
   "source": [
    "p_asm_test  = mlp_asm.predict_proba(X_asm_test)\n"
   ]
  },
  {
   "cell_type": "code",
   "execution_count": 58,
   "metadata": {},
   "outputs": [],
   "source": [
    "p_byte_train = mlp_byte.predict_proba(X_byte_train)\n",
    "p_byte_test  = mlp_byte.predict_proba(X_byte_test)\n"
   ]
  },
  {
   "cell_type": "code",
   "execution_count": 59,
   "metadata": {},
   "outputs": [],
   "source": [
    "fused_train = np.concatenate([p_asm_train, p_byte_train], axis=1)"
   ]
  },
  {
   "cell_type": "code",
   "execution_count": 60,
   "metadata": {},
   "outputs": [],
   "source": [
    "fused_test  = np.concatenate([p_asm_test, p_byte_test], axis=1)\n"
   ]
  },
  {
   "cell_type": "code",
   "execution_count": 61,
   "metadata": {},
   "outputs": [],
   "source": [
    "fusion_mlp = MLPClassifier(hidden_layer_sizes=(128,64), max_iter=300, random_state=42)"
   ]
  },
  {
   "cell_type": "code",
   "execution_count": 62,
   "metadata": {},
   "outputs": [
    {
     "name": "stdout",
     "output_type": "stream",
     "text": [
      "\n",
      "=== Fusion MLP ===\n",
      "                precision    recall  f1-score   support\n",
      "\n",
      "         Gatak       0.95      0.98      0.96       216\n",
      "  Kelihos_ver1       0.99      0.97      0.98        78\n",
      "  Kelihos_ver3       1.00      1.00      1.00       607\n",
      "      Lollipop       0.95      0.97      0.96       485\n",
      "Obfuscator.ACY       0.92      0.92      0.92       237\n",
      "        Ramnit       0.97      0.95      0.96       303\n",
      "         Simda       0.60      0.43      0.50         7\n",
      "        Tracur       0.96      0.94      0.95       145\n",
      "         Vundo       0.97      0.94      0.95        96\n",
      "\n",
      "      accuracy                           0.97      2174\n",
      "     macro avg       0.92      0.90      0.91      2174\n",
      "  weighted avg       0.96      0.97      0.96      2174\n",
      "\n"
     ]
    }
   ],
   "source": [
    "results_fusion = evaluate_model(fusion_mlp, fused_train, y_train, fused_test, y_test, \"Fusion MLP\")"
   ]
  },
  {
   "cell_type": "code",
   "execution_count": 64,
   "metadata": {},
   "outputs": [
    {
     "name": "stdout",
     "output_type": "stream",
     "text": [
      "\n",
      "=== MLP ASM ===\n",
      "                precision    recall  f1-score   support\n",
      "\n",
      "         Gatak       0.94      0.82      0.88       216\n",
      "  Kelihos_ver1       0.97      0.95      0.96        78\n",
      "  Kelihos_ver3       0.95      0.98      0.96       607\n",
      "      Lollipop       0.92      0.91      0.91       485\n",
      "Obfuscator.ACY       0.94      0.87      0.91       237\n",
      "        Ramnit       0.95      0.96      0.96       303\n",
      "         Simda       0.43      0.43      0.43         7\n",
      "        Tracur       0.77      0.92      0.84       145\n",
      "         Vundo       0.70      0.74      0.72        96\n",
      "\n",
      "      accuracy                           0.91      2174\n",
      "     macro avg       0.84      0.84      0.84      2174\n",
      "  weighted avg       0.92      0.91      0.92      2174\n",
      "\n",
      "\n",
      "=== MLP Byte ===\n",
      "                precision    recall  f1-score   support\n",
      "\n",
      "         Gatak       0.96      0.95      0.95       216\n",
      "  Kelihos_ver1       0.99      0.95      0.97        78\n",
      "  Kelihos_ver3       1.00      0.99      1.00       607\n",
      "      Lollipop       0.91      0.95      0.93       485\n",
      "Obfuscator.ACY       0.97      0.89      0.93       237\n",
      "        Ramnit       0.87      0.89      0.88       303\n",
      "         Simda       0.20      0.29      0.24         7\n",
      "        Tracur       0.84      0.77      0.80       145\n",
      "         Vundo       0.88      0.96      0.92        96\n",
      "\n",
      "      accuracy                           0.93      2174\n",
      "     macro avg       0.85      0.85      0.85      2174\n",
      "  weighted avg       0.93      0.93      0.93      2174\n",
      "\n"
     ]
    }
   ],
   "source": [
    "results_asm = evaluate_model(mlp_asm, X_asm_train, y_train, X_asm_test, y_test, \"MLP ASM\")\n",
    "results_byte = evaluate_model(mlp_byte, X_byte_train, y_train, X_byte_test, y_test, \"MLP Byte\")"
   ]
  },
  {
   "cell_type": "code",
   "execution_count": 65,
   "metadata": {},
   "outputs": [
    {
     "name": "stdout",
     "output_type": "stream",
     "text": [
      "\n",
      "Final Comparison:\n",
      "\n",
      "        Model  Accuracy  Precision    Recall  F1-score  Train Time (s)  \\\n",
      "0     MLP ASM  0.914903   0.917625  0.914903  0.915259       83.808307   \n",
      "1    MLP Byte  0.932843   0.934450  0.932843  0.933132       92.991858   \n",
      "2  Fusion MLP  0.965041   0.964868  0.965041  0.964837        6.042202   \n",
      "\n",
      "   Prediction Time (s)  \n",
      "0             0.016952  \n",
      "1             0.016790  \n",
      "2             0.010304  \n"
     ]
    }
   ],
   "source": [
    "import pandas as pd\n",
    "df_results = pd.DataFrame([results_asm, results_byte, results_fusion])\n",
    "print(\"\\nFinal Comparison:\\n\")\n",
    "print(df_results)"
   ]
  },
  {
   "cell_type": "code",
   "execution_count": null,
   "metadata": {},
   "outputs": [],
   "source": []
  }
 ],
 "metadata": {
  "kernelspec": {
   "display_name": "Python 3",
   "language": "python",
   "name": "python3"
  },
  "language_info": {
   "codemirror_mode": {
    "name": "ipython",
    "version": 3
   },
   "file_extension": ".py",
   "mimetype": "text/x-python",
   "name": "python",
   "nbconvert_exporter": "python",
   "pygments_lexer": "ipython3",
   "version": "3.7.4"
  }
 },
 "nbformat": 4,
 "nbformat_minor": 2
}
