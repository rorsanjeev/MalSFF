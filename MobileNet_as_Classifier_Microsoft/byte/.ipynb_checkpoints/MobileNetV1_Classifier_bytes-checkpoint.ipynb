{
 "cells": [
  {
   "cell_type": "code",
   "execution_count": 54,
   "metadata": {},
   "outputs": [],
   "source": [
    "import os\n",
    "import cv2\n",
    "import glob\n",
    "import random\n",
    "import time\n",
    "import warnings\n",
    "import numpy as np\n",
    "import pandas as pd\n",
    "import disarray as da\n",
    "import seaborn as sns\n",
    "import tensorflow as tf\n",
    "from imutils import paths\n",
    "from itertools import cycle\n",
    "import matplotlib.pyplot as plt\n",
    "warnings.filterwarnings('ignore')\n",
    "#importing sklearn libraries\n",
    "from sklearn.metrics import roc_curve\n",
    "from sklearn.metrics import auc\n",
    "from sklearn.metrics import confusion_matrix\n",
    "from sklearn.metrics import matthews_corrcoef\n",
    "from sklearn.model_selection import train_test_split\n",
    "from sklearn import metrics\n",
    "from sklearn.metrics import precision_recall_fscore_support\n",
    "from sklearn.model_selection import cross_val_score\n",
    "from sklearn.model_selection import train_test_split\n",
    "from tensorflow.keras.preprocessing import image\n",
    "from tensorflow.keras.utils import to_categorical\n",
    "from tensorflow.keras.preprocessing.image import load_img,img_to_array\n",
    "from tensorflow.keras.applications.mobilenet import MobileNet, preprocess_input"
   ]
  },
  {
   "cell_type": "code",
   "execution_count": 24,
   "metadata": {},
   "outputs": [],
   "source": [
    "#directory path for full dataset\n",
    "imagedir = \"/home/sanjeev/DL_Exp_Kajal/DL_Prasad_Exp/Microsoft_PoC/bytes_images\"\n",
    "img_list = glob.glob(os.path.join(imagedir, '*/*.png'))"
   ]
  },
  {
   "cell_type": "code",
   "execution_count": 3,
   "metadata": {},
   "outputs": [
    {
     "name": "stdout",
     "output_type": "stream",
     "text": [
      "Label: 0\tFamily:           Gatak\tNumber of images: 1013\n",
      "Label: 1\tFamily:    Kelihos_ver1\tNumber of images: 398\n",
      "Label: 2\tFamily:    Kelihos_ver3\tNumber of images: 2942\n",
      "Label: 3\tFamily:        Lollipop\tNumber of images: 2478\n",
      "Label: 4\tFamily:  Obfuscator.ACY\tNumber of images: 1228\n",
      "Label: 5\tFamily:          Ramnit\tNumber of images: 1541\n",
      "Label: 6\tFamily:           Simda\tNumber of images: 42\n",
      "Label: 7\tFamily:          Tracur\tNumber of images: 751\n",
      "Label: 8\tFamily:           Vundo\tNumber of images: 475\n"
     ]
    }
   ],
   "source": [
    "cur_dir = os.getcwd()\n",
    "os.chdir(imagedir)  # the parent folder with sub-folders\n",
    "\n",
    "# Get number of samples per family\n",
    "list_fams = sorted(os.listdir(os.getcwd()), key=str.lower)  # vector of strings with family names\n",
    "no_imgs = []  # No. of samples per family\n",
    "for i in range(len(list_fams)):\n",
    "    os.chdir(list_fams[i])\n",
    "    len1 = len(glob.glob('*.png'))  # assuming the images are stored as 'png'\n",
    "    no_imgs.append(len1)\n",
    "    os.chdir('..')\n",
    "num_samples = np.sum(no_imgs)  # total number of all samples\n",
    "\n",
    "# Compute the labels\n",
    "y = np.zeros(num_samples)\n",
    "pos = 0\n",
    "label = 0\n",
    "for i in no_imgs:\n",
    "    print (\"Label:%2d\\tFamily: %15s\\tNumber of images: %d\" % (label, list_fams[label], i))\n",
    "    for j in range(i):\n",
    "        y[pos] = label\n",
    "        pos += 1\n",
    "    label += 1\n",
    "num_classes = label"
   ]
  },
  {
   "cell_type": "code",
   "execution_count": null,
   "metadata": {},
   "outputs": [
    {
     "name": "stdout",
     "output_type": "stream",
     "text": [
      "Processing images...\n"
     ]
    }
   ],
   "source": [
    "width, height, channels = (224, 224, 3) #image input shape\n",
    "X = np.zeros((num_samples, width, height, channels))\n",
    "cnt = 0\n",
    "paths_list = []\n",
    "print(\"Processing images...\")\n",
    "for i in range(len(list_fams)):\n",
    "    for img_file in glob.glob(list_fams[i]+'/*.png'):\n",
    "        paths_list.append(os.path.join(os.getcwd(),img_file))\n",
    "        img = load_img(img_file, target_size=(224, 224))\n",
    "        x = img_to_array(img) #image to array\n",
    "        x = np.expand_dims(x, axis=0)\n",
    "        x = preprocess_input(x)\n",
    "        X[cnt] = x\n",
    "        cnt += 1\n",
    "print(\"Images processed: %d\" %(cnt))"
   ]
  },
  {
   "cell_type": "code",
   "execution_count": null,
   "metadata": {},
   "outputs": [],
   "source": [
    "np.save(\"/home/sanjeev/DL_Exp_Kajal/DL_Prasad_Exp/Microsoft_PoC/bytes_Plots/X.npy\",X)\n",
    "np.save(\"/home/sanjeev/DL_Exp_Kajal/DL_Prasad_Exp/Microsoft_PoC/bytes_Plots/y.npy\",y)"
   ]
  },
  {
   "cell_type": "code",
   "execution_count": 4,
   "metadata": {},
   "outputs": [
    {
     "data": {
      "text/plain": [
       "(10868, 224, 224, 3)"
      ]
     },
     "execution_count": 4,
     "metadata": {},
     "output_type": "execute_result"
    }
   ],
   "source": [
    "#loading data\n",
    "X = np.load(\"/home/sanjeev/DL_Exp_Kajal/DL_Prasad_Exp/Microsoft_PoC/bytes_Plots/X.npy\")\n",
    "X.shape"
   ]
  },
  {
   "cell_type": "code",
   "execution_count": 5,
   "metadata": {},
   "outputs": [
    {
     "data": {
      "text/plain": [
       "(10868,)"
      ]
     },
     "execution_count": 5,
     "metadata": {},
     "output_type": "execute_result"
    }
   ],
   "source": [
    "#loading labels\n",
    "labels = np.load(\"/home/sanjeev/DL_Exp_Kajal/DL_Prasad_Exp/Microsoft_PoC/bytes_Plots/y.npy\")\n",
    "labels.shape"
   ]
  },
  {
   "cell_type": "code",
   "execution_count": 6,
   "metadata": {},
   "outputs": [
    {
     "data": {
      "text/plain": [
       "(10868, 9)"
      ]
     },
     "execution_count": 6,
     "metadata": {},
     "output_type": "execute_result"
    }
   ],
   "source": [
    "y_cat = to_categorical(labels, num_classes=9)\n",
    "y_cat.shape"
   ]
  },
  {
   "cell_type": "code",
   "execution_count": 7,
   "metadata": {},
   "outputs": [],
   "source": [
    "IMG_SHAPE = (224,224,3)\n",
    "base_model = tf.keras.applications.mobilenet.MobileNet(input_shape=IMG_SHAPE,\n",
    "                                                       include_top=False,\n",
    "                                                       weights='imagenet')"
   ]
  },
  {
   "cell_type": "code",
   "execution_count": 8,
   "metadata": {},
   "outputs": [
    {
     "name": "stdout",
     "output_type": "stream",
     "text": [
      "Model: \"mobilenet_1.00_224\"\n",
      "_________________________________________________________________\n",
      " Layer (type)                Output Shape              Param #   \n",
      "=================================================================\n",
      " input_1 (InputLayer)        [(None, 224, 224, 3)]     0         \n",
      "                                                                 \n",
      " conv1 (Conv2D)              (None, 112, 112, 32)      864       \n",
      "                                                                 \n",
      " conv1_bn (BatchNormalizatio  (None, 112, 112, 32)     128       \n",
      " n)                                                              \n",
      "                                                                 \n",
      " conv1_relu (ReLU)           (None, 112, 112, 32)      0         \n",
      "                                                                 \n",
      " conv_dw_1 (DepthwiseConv2D)  (None, 112, 112, 32)     288       \n",
      "                                                                 \n",
      " conv_dw_1_bn (BatchNormaliz  (None, 112, 112, 32)     128       \n",
      " ation)                                                          \n",
      "                                                                 \n",
      " conv_dw_1_relu (ReLU)       (None, 112, 112, 32)      0         \n",
      "                                                                 \n",
      " conv_pw_1 (Conv2D)          (None, 112, 112, 64)      2048      \n",
      "                                                                 \n",
      " conv_pw_1_bn (BatchNormaliz  (None, 112, 112, 64)     256       \n",
      " ation)                                                          \n",
      "                                                                 \n",
      " conv_pw_1_relu (ReLU)       (None, 112, 112, 64)      0         \n",
      "                                                                 \n",
      " conv_pad_2 (ZeroPadding2D)  (None, 113, 113, 64)      0         \n",
      "                                                                 \n",
      " conv_dw_2 (DepthwiseConv2D)  (None, 56, 56, 64)       576       \n",
      "                                                                 \n",
      " conv_dw_2_bn (BatchNormaliz  (None, 56, 56, 64)       256       \n",
      " ation)                                                          \n",
      "                                                                 \n",
      " conv_dw_2_relu (ReLU)       (None, 56, 56, 64)        0         \n",
      "                                                                 \n",
      " conv_pw_2 (Conv2D)          (None, 56, 56, 128)       8192      \n",
      "                                                                 \n",
      " conv_pw_2_bn (BatchNormaliz  (None, 56, 56, 128)      512       \n",
      " ation)                                                          \n",
      "                                                                 \n",
      " conv_pw_2_relu (ReLU)       (None, 56, 56, 128)       0         \n",
      "                                                                 \n",
      " conv_dw_3 (DepthwiseConv2D)  (None, 56, 56, 128)      1152      \n",
      "                                                                 \n",
      " conv_dw_3_bn (BatchNormaliz  (None, 56, 56, 128)      512       \n",
      " ation)                                                          \n",
      "                                                                 \n",
      " conv_dw_3_relu (ReLU)       (None, 56, 56, 128)       0         \n",
      "                                                                 \n",
      " conv_pw_3 (Conv2D)          (None, 56, 56, 128)       16384     \n",
      "                                                                 \n",
      " conv_pw_3_bn (BatchNormaliz  (None, 56, 56, 128)      512       \n",
      " ation)                                                          \n",
      "                                                                 \n",
      " conv_pw_3_relu (ReLU)       (None, 56, 56, 128)       0         \n",
      "                                                                 \n",
      " conv_pad_4 (ZeroPadding2D)  (None, 57, 57, 128)       0         \n",
      "                                                                 \n",
      " conv_dw_4 (DepthwiseConv2D)  (None, 28, 28, 128)      1152      \n",
      "                                                                 \n",
      " conv_dw_4_bn (BatchNormaliz  (None, 28, 28, 128)      512       \n",
      " ation)                                                          \n",
      "                                                                 \n",
      " conv_dw_4_relu (ReLU)       (None, 28, 28, 128)       0         \n",
      "                                                                 \n",
      " conv_pw_4 (Conv2D)          (None, 28, 28, 256)       32768     \n",
      "                                                                 \n",
      " conv_pw_4_bn (BatchNormaliz  (None, 28, 28, 256)      1024      \n",
      " ation)                                                          \n",
      "                                                                 \n",
      " conv_pw_4_relu (ReLU)       (None, 28, 28, 256)       0         \n",
      "                                                                 \n",
      " conv_dw_5 (DepthwiseConv2D)  (None, 28, 28, 256)      2304      \n",
      "                                                                 \n",
      " conv_dw_5_bn (BatchNormaliz  (None, 28, 28, 256)      1024      \n",
      " ation)                                                          \n",
      "                                                                 \n",
      " conv_dw_5_relu (ReLU)       (None, 28, 28, 256)       0         \n",
      "                                                                 \n",
      " conv_pw_5 (Conv2D)          (None, 28, 28, 256)       65536     \n",
      "                                                                 \n",
      " conv_pw_5_bn (BatchNormaliz  (None, 28, 28, 256)      1024      \n",
      " ation)                                                          \n",
      "                                                                 \n",
      " conv_pw_5_relu (ReLU)       (None, 28, 28, 256)       0         \n",
      "                                                                 \n",
      " conv_pad_6 (ZeroPadding2D)  (None, 29, 29, 256)       0         \n",
      "                                                                 \n",
      " conv_dw_6 (DepthwiseConv2D)  (None, 14, 14, 256)      2304      \n",
      "                                                                 \n",
      " conv_dw_6_bn (BatchNormaliz  (None, 14, 14, 256)      1024      \n",
      " ation)                                                          \n",
      "                                                                 \n",
      " conv_dw_6_relu (ReLU)       (None, 14, 14, 256)       0         \n",
      "                                                                 \n",
      " conv_pw_6 (Conv2D)          (None, 14, 14, 512)       131072    \n",
      "                                                                 \n",
      " conv_pw_6_bn (BatchNormaliz  (None, 14, 14, 512)      2048      \n",
      " ation)                                                          \n",
      "                                                                 \n",
      " conv_pw_6_relu (ReLU)       (None, 14, 14, 512)       0         \n",
      "                                                                 \n",
      " conv_dw_7 (DepthwiseConv2D)  (None, 14, 14, 512)      4608      \n",
      "                                                                 \n",
      " conv_dw_7_bn (BatchNormaliz  (None, 14, 14, 512)      2048      \n",
      " ation)                                                          \n",
      "                                                                 \n",
      " conv_dw_7_relu (ReLU)       (None, 14, 14, 512)       0         \n",
      "                                                                 \n",
      " conv_pw_7 (Conv2D)          (None, 14, 14, 512)       262144    \n",
      "                                                                 \n",
      " conv_pw_7_bn (BatchNormaliz  (None, 14, 14, 512)      2048      \n",
      " ation)                                                          \n",
      "                                                                 \n",
      " conv_pw_7_relu (ReLU)       (None, 14, 14, 512)       0         \n",
      "                                                                 \n",
      " conv_dw_8 (DepthwiseConv2D)  (None, 14, 14, 512)      4608      \n",
      "                                                                 \n",
      " conv_dw_8_bn (BatchNormaliz  (None, 14, 14, 512)      2048      \n",
      " ation)                                                          \n",
      "                                                                 \n",
      " conv_dw_8_relu (ReLU)       (None, 14, 14, 512)       0         \n",
      "                                                                 \n",
      " conv_pw_8 (Conv2D)          (None, 14, 14, 512)       262144    \n"
     ]
    },
    {
     "name": "stdout",
     "output_type": "stream",
     "text": [
      "                                                                 \n",
      " conv_pw_8_bn (BatchNormaliz  (None, 14, 14, 512)      2048      \n",
      " ation)                                                          \n",
      "                                                                 \n",
      " conv_pw_8_relu (ReLU)       (None, 14, 14, 512)       0         \n",
      "                                                                 \n",
      " conv_dw_9 (DepthwiseConv2D)  (None, 14, 14, 512)      4608      \n",
      "                                                                 \n",
      " conv_dw_9_bn (BatchNormaliz  (None, 14, 14, 512)      2048      \n",
      " ation)                                                          \n",
      "                                                                 \n",
      " conv_dw_9_relu (ReLU)       (None, 14, 14, 512)       0         \n",
      "                                                                 \n",
      " conv_pw_9 (Conv2D)          (None, 14, 14, 512)       262144    \n",
      "                                                                 \n",
      " conv_pw_9_bn (BatchNormaliz  (None, 14, 14, 512)      2048      \n",
      " ation)                                                          \n",
      "                                                                 \n",
      " conv_pw_9_relu (ReLU)       (None, 14, 14, 512)       0         \n",
      "                                                                 \n",
      " conv_dw_10 (DepthwiseConv2D  (None, 14, 14, 512)      4608      \n",
      " )                                                               \n",
      "                                                                 \n",
      " conv_dw_10_bn (BatchNormali  (None, 14, 14, 512)      2048      \n",
      " zation)                                                         \n",
      "                                                                 \n",
      " conv_dw_10_relu (ReLU)      (None, 14, 14, 512)       0         \n",
      "                                                                 \n",
      " conv_pw_10 (Conv2D)         (None, 14, 14, 512)       262144    \n",
      "                                                                 \n",
      " conv_pw_10_bn (BatchNormali  (None, 14, 14, 512)      2048      \n",
      " zation)                                                         \n",
      "                                                                 \n",
      " conv_pw_10_relu (ReLU)      (None, 14, 14, 512)       0         \n",
      "                                                                 \n",
      " conv_dw_11 (DepthwiseConv2D  (None, 14, 14, 512)      4608      \n",
      " )                                                               \n",
      "                                                                 \n",
      " conv_dw_11_bn (BatchNormali  (None, 14, 14, 512)      2048      \n",
      " zation)                                                         \n",
      "                                                                 \n",
      " conv_dw_11_relu (ReLU)      (None, 14, 14, 512)       0         \n",
      "                                                                 \n",
      " conv_pw_11 (Conv2D)         (None, 14, 14, 512)       262144    \n",
      "                                                                 \n",
      " conv_pw_11_bn (BatchNormali  (None, 14, 14, 512)      2048      \n",
      " zation)                                                         \n",
      "                                                                 \n",
      " conv_pw_11_relu (ReLU)      (None, 14, 14, 512)       0         \n",
      "                                                                 \n",
      " conv_pad_12 (ZeroPadding2D)  (None, 15, 15, 512)      0         \n",
      "                                                                 \n",
      " conv_dw_12 (DepthwiseConv2D  (None, 7, 7, 512)        4608      \n",
      " )                                                               \n",
      "                                                                 \n",
      " conv_dw_12_bn (BatchNormali  (None, 7, 7, 512)        2048      \n",
      " zation)                                                         \n",
      "                                                                 \n",
      " conv_dw_12_relu (ReLU)      (None, 7, 7, 512)         0         \n",
      "                                                                 \n",
      " conv_pw_12 (Conv2D)         (None, 7, 7, 1024)        524288    \n",
      "                                                                 \n",
      " conv_pw_12_bn (BatchNormali  (None, 7, 7, 1024)       4096      \n",
      " zation)                                                         \n",
      "                                                                 \n",
      " conv_pw_12_relu (ReLU)      (None, 7, 7, 1024)        0         \n",
      "                                                                 \n",
      " conv_dw_13 (DepthwiseConv2D  (None, 7, 7, 1024)       9216      \n",
      " )                                                               \n",
      "                                                                 \n",
      " conv_dw_13_bn (BatchNormali  (None, 7, 7, 1024)       4096      \n",
      " zation)                                                         \n",
      "                                                                 \n",
      " conv_dw_13_relu (ReLU)      (None, 7, 7, 1024)        0         \n",
      "                                                                 \n",
      " conv_pw_13 (Conv2D)         (None, 7, 7, 1024)        1048576   \n",
      "                                                                 \n",
      " conv_pw_13_bn (BatchNormali  (None, 7, 7, 1024)       4096      \n",
      " zation)                                                         \n",
      "                                                                 \n",
      " conv_pw_13_relu (ReLU)      (None, 7, 7, 1024)        0         \n",
      "                                                                 \n",
      "=================================================================\n",
      "Total params: 3,228,864\n",
      "Trainable params: 3,206,976\n",
      "Non-trainable params: 21,888\n",
      "_________________________________________________________________\n"
     ]
    }
   ],
   "source": [
    "base_model.summary()"
   ]
  },
  {
   "cell_type": "code",
   "execution_count": 9,
   "metadata": {},
   "outputs": [],
   "source": [
    "base_model.trainable = False # moves all the layer's weights from trainable to non-trainable\n",
    "                             # the state of a frozen layer won't be updated during training (either when training with fit()"
   ]
  },
  {
   "cell_type": "code",
   "execution_count": 10,
   "metadata": {},
   "outputs": [],
   "source": [
    "model = tf.keras.Sequential([base_model,\n",
    "                             tf.keras.layers.Dense(512, activation='relu'),\n",
    "                             tf.keras.layers.Dense(256, activation='relu'),\n",
    "                             tf.keras.layers.Dense(128, activation='relu'),\n",
    "                             tf.keras.layers.GlobalAveragePooling2D(),\n",
    "                             tf.keras.layers.Dense(9, activation='softmax')])"
   ]
  },
  {
   "cell_type": "code",
   "execution_count": 11,
   "metadata": {},
   "outputs": [
    {
     "name": "stdout",
     "output_type": "stream",
     "text": [
      "Model: \"sequential\"\n",
      "_________________________________________________________________\n",
      " Layer (type)                Output Shape              Param #   \n",
      "=================================================================\n",
      " mobilenet_1.00_224 (Functio  (None, 7, 7, 1024)       3228864   \n",
      " nal)                                                            \n",
      "                                                                 \n",
      " dense (Dense)               (None, 7, 7, 512)         524800    \n",
      "                                                                 \n",
      " dense_1 (Dense)             (None, 7, 7, 256)         131328    \n",
      "                                                                 \n",
      " dense_2 (Dense)             (None, 7, 7, 128)         32896     \n",
      "                                                                 \n",
      " global_average_pooling2d (G  (None, 128)              0         \n",
      " lobalAveragePooling2D)                                          \n",
      "                                                                 \n",
      " dense_3 (Dense)             (None, 9)                 1161      \n",
      "                                                                 \n",
      "=================================================================\n",
      "Total params: 3,919,049\n",
      "Trainable params: 690,185\n",
      "Non-trainable params: 3,228,864\n",
      "_________________________________________________________________\n"
     ]
    }
   ],
   "source": [
    "model.summary()"
   ]
  },
  {
   "cell_type": "code",
   "execution_count": 12,
   "metadata": {},
   "outputs": [],
   "source": [
    "model.compile(optimizer=tf.keras.optimizers.Adam(learning_rate=0.00001), \n",
    "              loss='categorical_crossentropy', \n",
    "              metrics=['accuracy'])"
   ]
  },
  {
   "cell_type": "code",
   "execution_count": 13,
   "metadata": {},
   "outputs": [],
   "source": [
    "#data train test split\n",
    "X_train, X_test, y_train, y_test = train_test_split(X, y_cat, test_size=0.20, random_state=42)"
   ]
  },
  {
   "cell_type": "code",
   "execution_count": 14,
   "metadata": {},
   "outputs": [
    {
     "data": {
      "text/plain": [
       "((8694, 224, 224, 3), (2174, 224, 224, 3))"
      ]
     },
     "execution_count": 14,
     "metadata": {},
     "output_type": "execute_result"
    }
   ],
   "source": [
    "X_train.shape, X_test.shape "
   ]
  },
  {
   "cell_type": "code",
   "execution_count": 15,
   "metadata": {},
   "outputs": [],
   "source": [
    "batch_size = 32\n",
    "epochs = 50"
   ]
  },
  {
   "cell_type": "code",
   "execution_count": 16,
   "metadata": {
    "scrolled": true
   },
   "outputs": [
    {
     "name": "stdout",
     "output_type": "stream",
     "text": [
      "Epoch 1/50\n",
      "272/272 [==============================] - 62s 220ms/step - loss: 1.7418 - accuracy: 0.4136 - val_loss: 1.3989 - val_accuracy: 0.4945\n",
      "Epoch 2/50\n",
      "272/272 [==============================] - 58s 215ms/step - loss: 1.2550 - accuracy: 0.5749 - val_loss: 1.1226 - val_accuracy: 0.6279\n",
      "Epoch 3/50\n",
      "272/272 [==============================] - 55s 202ms/step - loss: 1.0451 - accuracy: 0.6554 - val_loss: 0.9688 - val_accuracy: 0.6973\n",
      "Epoch 4/50\n",
      "272/272 [==============================] - 58s 212ms/step - loss: 0.9184 - accuracy: 0.7098 - val_loss: 0.8773 - val_accuracy: 0.7433\n",
      "Epoch 5/50\n",
      "272/272 [==============================] - 57s 211ms/step - loss: 0.8433 - accuracy: 0.7336 - val_loss: 0.8234 - val_accuracy: 0.7447\n",
      "Epoch 6/50\n",
      "272/272 [==============================] - 58s 212ms/step - loss: 0.7937 - accuracy: 0.7451 - val_loss: 0.7788 - val_accuracy: 0.7636\n",
      "Epoch 7/50\n",
      "272/272 [==============================] - 56s 207ms/step - loss: 0.7565 - accuracy: 0.7585 - val_loss: 0.7467 - val_accuracy: 0.7640\n",
      "Epoch 8/50\n",
      "272/272 [==============================] - 58s 212ms/step - loss: 0.7247 - accuracy: 0.7658 - val_loss: 0.7239 - val_accuracy: 0.7682\n",
      "Epoch 9/50\n",
      "272/272 [==============================] - 58s 212ms/step - loss: 0.6986 - accuracy: 0.7713 - val_loss: 0.7004 - val_accuracy: 0.7718\n",
      "Epoch 10/50\n",
      "272/272 [==============================] - 59s 216ms/step - loss: 0.6758 - accuracy: 0.7751 - val_loss: 0.6790 - val_accuracy: 0.7778\n",
      "Epoch 11/50\n",
      "272/272 [==============================] - 60s 222ms/step - loss: 0.6540 - accuracy: 0.7827 - val_loss: 0.6631 - val_accuracy: 0.7833\n",
      "Epoch 12/50\n",
      "272/272 [==============================] - 59s 218ms/step - loss: 0.6355 - accuracy: 0.7871 - val_loss: 0.6428 - val_accuracy: 0.7916\n",
      "Epoch 13/50\n",
      "272/272 [==============================] - 59s 216ms/step - loss: 0.6180 - accuracy: 0.7928 - val_loss: 0.6251 - val_accuracy: 0.7967\n",
      "Epoch 14/50\n",
      "272/272 [==============================] - 60s 220ms/step - loss: 0.6019 - accuracy: 0.7995 - val_loss: 0.6147 - val_accuracy: 0.7985\n",
      "Epoch 15/50\n",
      "272/272 [==============================] - 59s 216ms/step - loss: 0.5880 - accuracy: 0.8052 - val_loss: 0.5983 - val_accuracy: 0.8077\n",
      "Epoch 16/50\n",
      "272/272 [==============================] - 61s 223ms/step - loss: 0.5731 - accuracy: 0.8117 - val_loss: 0.5858 - val_accuracy: 0.8142\n",
      "Epoch 17/50\n",
      "272/272 [==============================] - 60s 220ms/step - loss: 0.5595 - accuracy: 0.8173 - val_loss: 0.5731 - val_accuracy: 0.8192\n",
      "Epoch 18/50\n",
      "272/272 [==============================] - 59s 217ms/step - loss: 0.5471 - accuracy: 0.8209 - val_loss: 0.5629 - val_accuracy: 0.8252\n",
      "Epoch 19/50\n",
      "272/272 [==============================] - 59s 218ms/step - loss: 0.5353 - accuracy: 0.8236 - val_loss: 0.5559 - val_accuracy: 0.8307\n",
      "Epoch 20/50\n",
      "272/272 [==============================] - 59s 216ms/step - loss: 0.5248 - accuracy: 0.8286 - val_loss: 0.5426 - val_accuracy: 0.8381\n",
      "Epoch 21/50\n",
      "272/272 [==============================] - 60s 221ms/step - loss: 0.5130 - accuracy: 0.8340 - val_loss: 0.5344 - val_accuracy: 0.8385\n",
      "Epoch 22/50\n",
      "272/272 [==============================] - 58s 213ms/step - loss: 0.5030 - accuracy: 0.8380 - val_loss: 0.5219 - val_accuracy: 0.8441\n",
      "Epoch 23/50\n",
      "272/272 [==============================] - 58s 215ms/step - loss: 0.4924 - accuracy: 0.8420 - val_loss: 0.5203 - val_accuracy: 0.8441\n",
      "Epoch 24/50\n",
      "272/272 [==============================] - 58s 215ms/step - loss: 0.4838 - accuracy: 0.8458 - val_loss: 0.5122 - val_accuracy: 0.8454\n",
      "Epoch 25/50\n",
      "272/272 [==============================] - 57s 211ms/step - loss: 0.4745 - accuracy: 0.8471 - val_loss: 0.5015 - val_accuracy: 0.8565\n",
      "Epoch 26/50\n",
      "272/272 [==============================] - 59s 217ms/step - loss: 0.4664 - accuracy: 0.8536 - val_loss: 0.4940 - val_accuracy: 0.8523\n",
      "Epoch 27/50\n",
      "272/272 [==============================] - 59s 215ms/step - loss: 0.4585 - accuracy: 0.8538 - val_loss: 0.4844 - val_accuracy: 0.8606\n",
      "Epoch 28/50\n",
      "272/272 [==============================] - 57s 209ms/step - loss: 0.4507 - accuracy: 0.8584 - val_loss: 0.4796 - val_accuracy: 0.8634\n",
      "Epoch 29/50\n",
      "272/272 [==============================] - 58s 213ms/step - loss: 0.4423 - accuracy: 0.8620 - val_loss: 0.4724 - val_accuracy: 0.8625\n",
      "Epoch 30/50\n",
      "272/272 [==============================] - 57s 210ms/step - loss: 0.4344 - accuracy: 0.8654 - val_loss: 0.4657 - val_accuracy: 0.8634\n",
      "Epoch 31/50\n",
      "272/272 [==============================] - 59s 217ms/step - loss: 0.4275 - accuracy: 0.8708 - val_loss: 0.4600 - val_accuracy: 0.8680\n",
      "Epoch 32/50\n",
      "272/272 [==============================] - 59s 216ms/step - loss: 0.4213 - accuracy: 0.8711 - val_loss: 0.4593 - val_accuracy: 0.8666\n",
      "Epoch 33/50\n",
      "272/272 [==============================] - 57s 209ms/step - loss: 0.4141 - accuracy: 0.8741 - val_loss: 0.4502 - val_accuracy: 0.8721\n",
      "Epoch 34/50\n",
      "272/272 [==============================] - 57s 208ms/step - loss: 0.4078 - accuracy: 0.8784 - val_loss: 0.4451 - val_accuracy: 0.8721\n",
      "Epoch 35/50\n",
      "272/272 [==============================] - 58s 213ms/step - loss: 0.4025 - accuracy: 0.8801 - val_loss: 0.4468 - val_accuracy: 0.8620\n",
      "Epoch 36/50\n",
      "272/272 [==============================] - 58s 213ms/step - loss: 0.3965 - accuracy: 0.8830 - val_loss: 0.4440 - val_accuracy: 0.8758\n",
      "Epoch 37/50\n",
      "272/272 [==============================] - 59s 219ms/step - loss: 0.3907 - accuracy: 0.8831 - val_loss: 0.4318 - val_accuracy: 0.8730\n",
      "Epoch 38/50\n",
      "272/272 [==============================] - 59s 218ms/step - loss: 0.3846 - accuracy: 0.8874 - val_loss: 0.4274 - val_accuracy: 0.8776\n",
      "Epoch 39/50\n",
      "272/272 [==============================] - 58s 212ms/step - loss: 0.3792 - accuracy: 0.8898 - val_loss: 0.4233 - val_accuracy: 0.8753\n",
      "Epoch 40/50\n",
      "272/272 [==============================] - 59s 216ms/step - loss: 0.3732 - accuracy: 0.8903 - val_loss: 0.4179 - val_accuracy: 0.8804\n",
      "Epoch 41/50\n",
      "272/272 [==============================] - 60s 221ms/step - loss: 0.3688 - accuracy: 0.8936 - val_loss: 0.4166 - val_accuracy: 0.8786\n",
      "Epoch 42/50\n",
      "272/272 [==============================] - 59s 216ms/step - loss: 0.3629 - accuracy: 0.8946 - val_loss: 0.4111 - val_accuracy: 0.8809\n",
      "Epoch 43/50\n",
      "272/272 [==============================] - 56s 205ms/step - loss: 0.3584 - accuracy: 0.8953 - val_loss: 0.4051 - val_accuracy: 0.8882\n",
      "Epoch 44/50\n",
      "272/272 [==============================] - 57s 208ms/step - loss: 0.3532 - accuracy: 0.8961 - val_loss: 0.4042 - val_accuracy: 0.8841\n",
      "Epoch 45/50\n",
      "272/272 [==============================] - 58s 214ms/step - loss: 0.3495 - accuracy: 0.8965 - val_loss: 0.3999 - val_accuracy: 0.8882\n",
      "Epoch 46/50\n",
      "272/272 [==============================] - 57s 209ms/step - loss: 0.3460 - accuracy: 0.9003 - val_loss: 0.4023 - val_accuracy: 0.8859\n",
      "Epoch 47/50\n",
      "272/272 [==============================] - 58s 213ms/step - loss: 0.3408 - accuracy: 0.9021 - val_loss: 0.3951 - val_accuracy: 0.8845\n",
      "Epoch 48/50\n",
      "272/272 [==============================] - 59s 218ms/step - loss: 0.3362 - accuracy: 0.9028 - val_loss: 0.3900 - val_accuracy: 0.8891\n",
      "Epoch 49/50\n",
      "272/272 [==============================] - 58s 214ms/step - loss: 0.3319 - accuracy: 0.9022 - val_loss: 0.3879 - val_accuracy: 0.8878\n",
      "Epoch 50/50\n",
      "272/272 [==============================] - 58s 212ms/step - loss: 0.3281 - accuracy: 0.9050 - val_loss: 0.3980 - val_accuracy: 0.8868\n",
      "CPU times: user 13h 37min 12s, sys: 17h 9min 32s, total: 1d 6h 46min 44s\n",
      "Wall time: 48min 44s\n"
     ]
    }
   ],
   "source": [
    "%%time\n",
    "history = model.fit(X_train, y_train, \n",
    "                    epochs=epochs, \n",
    "                    batch_size=batch_size,\n",
    "                    validation_data=(X_test, y_test))"
   ]
  },
  {
   "cell_type": "code",
   "execution_count": 17,
   "metadata": {},
   "outputs": [
    {
     "data": {
      "image/png": "[encoded data removed]",
      "text/plain": [
       "<Figure size 576x576 with 2 Axes>"
      ]
     },
     "metadata": {
      "needs_background": "light"
     },
     "output_type": "display_data"
    }
   ],
   "source": [
    "acc = history.history['accuracy']\n",
    "val_acc = history.history['val_accuracy']\n",
    "\n",
    "loss = history.history['loss']\n",
    "val_loss = history.history['val_loss']\n",
    "\n",
    "plt.figure(figsize=(8, 8))\n",
    "plt.subplot(2, 1, 1)\n",
    "plt.plot(acc, label='Training Accuracy')\n",
    "plt.plot(val_acc, label='Validation Accuracy')\n",
    "plt.legend(loc='lower right')\n",
    "plt.ylabel('Accuracy')\n",
    "plt.ylim([min(plt.ylim()),1])\n",
    "plt.title('Training and Validation Accuracy')\n",
    "\n",
    "plt.subplot(2, 1, 2)\n",
    "plt.plot(loss, label='Training Loss')\n",
    "plt.plot(val_loss, label='Validation Loss')\n",
    "plt.legend(loc='upper right')\n",
    "plt.ylabel('Cross Entropy')\n",
    "plt.ylim([0,max(plt.ylim())])\n",
    "plt.title('Training and Validation Loss')\n",
    "plt.show()"
   ]
  },
  {
   "cell_type": "code",
   "execution_count": 18,
   "metadata": {},
   "outputs": [
    {
     "name": "stdout",
     "output_type": "stream",
     "text": [
      "68/68 [==============================] - 11s 153ms/step - loss: 0.3980 - accuracy: 0.8868\n",
      "Model evaluated!!\n",
      "Test loss: 0.3979969918727875\n",
      "Test accuracy: 0.8868445158004761\n",
      "CPU times: user 3min 9s, sys: 3min 52s, total: 7min 1s\n",
      "Wall time: 12.8 s\n"
     ]
    }
   ],
   "source": [
    "%%time\n",
    "score = model.evaluate(X_test, y_test, verbose=1)\n",
    "print(\"Model evaluated!!\")\n",
    "print('Test loss:', score[0])\n",
    "print('Test accuracy:', score[1])"
   ]
  },
  {
   "cell_type": "code",
   "execution_count": 19,
   "metadata": {},
   "outputs": [
    {
     "name": "stdout",
     "output_type": "stream",
     "text": [
      "Prediction done!!\n",
      "CPU times: user 3min 9s, sys: 4min 2s, total: 7min 11s\n",
      "Wall time: 13.3 s\n"
     ]
    }
   ],
   "source": [
    "%%time\n",
    "#predictions for test data\n",
    "y_pred = np.argmax(model.predict(X_test), axis=1)\n",
    "y_true = np.argmax(y_test, axis=1)\n",
    "print(\"Prediction done!!\")"
   ]
  },
  {
   "cell_type": "code",
   "execution_count": 20,
   "metadata": {},
   "outputs": [],
   "source": [
    "preds = np.round(model.predict(X_test), 0)"
   ]
  },
  {
   "cell_type": "code",
   "execution_count": 21,
   "metadata": {},
   "outputs": [
    {
     "data": {
      "text/plain": [
       "2174"
      ]
     },
     "execution_count": 21,
     "metadata": {},
     "output_type": "execute_result"
    }
   ],
   "source": [
    "len(y_test)"
   ]
  },
  {
   "cell_type": "code",
   "execution_count": 25,
   "metadata": {},
   "outputs": [],
   "source": [
    "classification_metrices = metrics.classification_report(y_test, preds, output_dict=True, target_names=list_fams)\n",
    "df = pd.DataFrame(classification_metrices).transpose()\n",
    "df.to_csv('/home/sanjeev/DL_Exp_Kajal/DL_Prasad_Exp/Microsoft_PoC/bytes_Plots/mobilenetV1_Classification_report.csv')"
   ]
  },
  {
   "cell_type": "code",
   "execution_count": 26,
   "metadata": {},
   "outputs": [
    {
     "name": "stdout",
     "output_type": "stream",
     "text": [
      "                precision    recall  f1-score   support\n",
      "\n",
      "         Gatak       0.99      0.76      0.86       209\n",
      "  Kelihos_ver1       0.96      0.89      0.93        76\n",
      "  Kelihos_ver3       1.00      0.99      1.00       590\n",
      "      Lollipop       0.89      0.86      0.88       487\n",
      "Obfuscator.ACY       0.93      0.88      0.91       232\n",
      "        Ramnit       0.88      0.72      0.79       317\n",
      "         Simda       0.00      0.00      0.00         7\n",
      "        Tracur       0.84      0.42      0.56       150\n",
      "         Vundo       0.96      0.76      0.85       106\n",
      "\n",
      "     micro avg       0.94      0.83      0.88      2174\n",
      "     macro avg       0.83      0.70      0.75      2174\n",
      "  weighted avg       0.93      0.83      0.87      2174\n",
      "   samples avg       0.83      0.83      0.83      2174\n",
      "\n"
     ]
    }
   ],
   "source": [
    "classification_metrices = metrics.classification_report(y_test, preds, target_names= list_fams)\n",
    "print(classification_metrices)"
   ]
  },
  {
   "cell_type": "code",
   "execution_count": 29,
   "metadata": {},
   "outputs": [
    {
     "name": "stdout",
     "output_type": "stream",
     "text": [
      "Plotting the confusion matrix\n"
     ]
    },
    {
     "data": {
      "image/png": "[encoded data removed]",
      "text/plain": [
       "<Figure size 792x720 with 2 Axes>"
      ]
     },
     "metadata": {
      "needs_background": "light"
     },
     "output_type": "display_data"
    }
   ],
   "source": [
    "conf_matrix = confusion_matrix(y_true, y_pred)\n",
    "\n",
    "print(\"Plotting the confusion matrix\")\n",
    "conf_mat = np.around(conf_matrix, decimals=2)  \n",
    "figure = plt.gcf()\n",
    "figure.set_size_inches(11, 10)\n",
    "plt.imshow(conf_mat, interpolation='nearest', cmap='ocean_r')\n",
    "\n",
    "for row in range(len(list_fams)):\n",
    "    for col in range(len(list_fams)):\n",
    "        plt.annotate(str(conf_mat[row][col]), xy=(col,row), ha='center', va='top', fontsize=9)\n",
    "        \n",
    "plt.xticks(range(len(list_fams)), list_fams, rotation=90, fontsize=12)\n",
    "plt.yticks(range(len(list_fams)+1), list_fams, fontsize=12)\n",
    "\n",
    "plt.ylabel('True label')\n",
    "plt.xlabel('Predicted label')\n",
    "plt.tight_layout()\n",
    "plt.colorbar()\n",
    "\n",
    "plt.savefig(\"/home/sanjeev/DL_Exp_Kajal/DL_Prasad_Exp/Microsoft_PoC/bytes_Plots/mobilenetV1_cm.eps\", bbox_inches='tight')\n",
    "plt.savefig(\"/home/sanjeev/DL_Exp_Kajal/DL_Prasad_Exp/Microsoft_PoC/bytes_Plots/mobilenetV1_cm.png\", bbox_inches='tight')\n",
    "plt.show()"
   ]
  },
  {
   "cell_type": "code",
   "execution_count": 30,
   "metadata": {},
   "outputs": [],
   "source": [
    "cm = confusion_matrix(y_true, y_pred)\n",
    "df = pd.DataFrame(cm)"
   ]
  },
  {
   "cell_type": "code",
   "execution_count": 31,
   "metadata": {},
   "outputs": [],
   "source": [
    "pd.set_option('display.max_columns', None)  # force to display any number of columns."
   ]
  },
  {
   "cell_type": "code",
   "execution_count": 32,
   "metadata": {},
   "outputs": [],
   "source": [
    "#calculating true positives, false positives, true negatives and false negatives from confusion matrix\n",
    "FP = cm.sum(axis=0) - np.diag(cm)  \n",
    "FN = cm.sum(axis=1) - np.diag(cm)\n",
    "TP = np.diag(cm)\n",
    "TN = cm.sum() - (FP + FN + TP)"
   ]
  },
  {
   "cell_type": "code",
   "execution_count": 33,
   "metadata": {},
   "outputs": [
    {
     "data": {
      "text/plain": [
       "(array([12,  3,  1, 86, 36, 77,  0, 20, 11]),\n",
       " array([31,  7,  2, 39, 21, 64,  7, 62, 13]),\n",
       " array([178,  69, 588, 448, 211, 253,   0,  88,  93]),\n",
       " array([1953, 2095, 1583, 1601, 1906, 1780, 2167, 2004, 2057]))"
      ]
     },
     "execution_count": 33,
     "metadata": {},
     "output_type": "execute_result"
    }
   ],
   "source": [
    "FP, FN, TP, TN"
   ]
  },
  {
   "cell_type": "code",
   "execution_count": 34,
   "metadata": {},
   "outputs": [
    {
     "data": {
      "text/plain": [
       "array([0.015625  , 0.00333016, 0.00126183, 0.02378049, 0.01089777,\n",
       "       0.03470716, 0.00321987, 0.03000968, 0.00628019])"
      ]
     },
     "execution_count": 34,
     "metadata": {},
     "output_type": "execute_result"
    }
   ],
   "source": [
    "#calculating false_omission_rate\n",
    "NPV = TN/(TN+FN)\n",
    "FOR = 1-NPV\n",
    "FOR"
   ]
  },
  {
   "cell_type": "code",
   "execution_count": 35,
   "metadata": {},
   "outputs": [],
   "source": [
    "data = df.da.export_metrics(metrics_to_include=['true_positive_rate', 'true_negative_rate', 'false_positive_rate', \n",
    "                                              'false_negative_rate', 'false_discovery_rate'])"
   ]
  },
  {
   "cell_type": "code",
   "execution_count": 36,
   "metadata": {},
   "outputs": [],
   "source": [
    "data.fillna(0.0, inplace=True)"
   ]
  },
  {
   "cell_type": "code",
   "execution_count": 37,
   "metadata": {},
   "outputs": [
    {
     "data": {
      "text/html": [
       "<div>\n",
       "<style scoped>\n",
       "    .dataframe tbody tr th:only-of-type {\n",
       "        vertical-align: middle;\n",
       "    }\n",
       "\n",
       "    .dataframe tbody tr th {\n",
       "        vertical-align: top;\n",
       "    }\n",
       "\n",
       "    .dataframe thead th {\n",
       "        text-align: right;\n",
       "    }\n",
       "</style>\n",
       "<table border=\"1\" class=\"dataframe\">\n",
       "  <thead>\n",
       "    <tr style=\"text-align: right;\">\n",
       "      <th></th>\n",
       "      <th>true_positive_rate</th>\n",
       "      <th>true_negative_rate</th>\n",
       "      <th>false_positive_rate</th>\n",
       "      <th>false_negative_rate</th>\n",
       "      <th>false_discovery_rate</th>\n",
       "      <th>false_omission_rate</th>\n",
       "    </tr>\n",
       "  </thead>\n",
       "  <tbody>\n",
       "    <tr>\n",
       "      <th>Gatak</th>\n",
       "      <td>0.851675</td>\n",
       "      <td>0.993893</td>\n",
       "      <td>0.006107</td>\n",
       "      <td>0.148325</td>\n",
       "      <td>0.063158</td>\n",
       "      <td>0.015625</td>\n",
       "    </tr>\n",
       "    <tr>\n",
       "      <th>Kelihos_ver1</th>\n",
       "      <td>0.907895</td>\n",
       "      <td>0.998570</td>\n",
       "      <td>0.001430</td>\n",
       "      <td>0.092105</td>\n",
       "      <td>0.041667</td>\n",
       "      <td>0.003330</td>\n",
       "    </tr>\n",
       "    <tr>\n",
       "      <th>Kelihos_ver3</th>\n",
       "      <td>0.996610</td>\n",
       "      <td>0.999369</td>\n",
       "      <td>0.000631</td>\n",
       "      <td>0.003390</td>\n",
       "      <td>0.001698</td>\n",
       "      <td>0.001262</td>\n",
       "    </tr>\n",
       "    <tr>\n",
       "      <th>Lollipop</th>\n",
       "      <td>0.919918</td>\n",
       "      <td>0.949022</td>\n",
       "      <td>0.050978</td>\n",
       "      <td>0.080082</td>\n",
       "      <td>0.161049</td>\n",
       "      <td>0.023780</td>\n",
       "    </tr>\n",
       "    <tr>\n",
       "      <th>Obfuscator.ACY</th>\n",
       "      <td>0.909483</td>\n",
       "      <td>0.981462</td>\n",
       "      <td>0.018538</td>\n",
       "      <td>0.090517</td>\n",
       "      <td>0.145749</td>\n",
       "      <td>0.010898</td>\n",
       "    </tr>\n",
       "    <tr>\n",
       "      <th>Ramnit</th>\n",
       "      <td>0.798107</td>\n",
       "      <td>0.958535</td>\n",
       "      <td>0.041465</td>\n",
       "      <td>0.201893</td>\n",
       "      <td>0.233333</td>\n",
       "      <td>0.034707</td>\n",
       "    </tr>\n",
       "    <tr>\n",
       "      <th>Simda</th>\n",
       "      <td>0.000000</td>\n",
       "      <td>1.000000</td>\n",
       "      <td>0.000000</td>\n",
       "      <td>1.000000</td>\n",
       "      <td>0.000000</td>\n",
       "      <td>0.003220</td>\n",
       "    </tr>\n",
       "    <tr>\n",
       "      <th>Tracur</th>\n",
       "      <td>0.586667</td>\n",
       "      <td>0.990119</td>\n",
       "      <td>0.009881</td>\n",
       "      <td>0.413333</td>\n",
       "      <td>0.185185</td>\n",
       "      <td>0.030010</td>\n",
       "    </tr>\n",
       "    <tr>\n",
       "      <th>Vundo</th>\n",
       "      <td>0.877358</td>\n",
       "      <td>0.994681</td>\n",
       "      <td>0.005319</td>\n",
       "      <td>0.122642</td>\n",
       "      <td>0.105769</td>\n",
       "      <td>0.006280</td>\n",
       "    </tr>\n",
       "  </tbody>\n",
       "</table>\n",
       "</div>"
      ],
      "text/plain": [
       "                true_positive_rate  true_negative_rate  false_positive_rate  \\\n",
       "Gatak                     0.851675            0.993893             0.006107   \n",
       "Kelihos_ver1              0.907895            0.998570             0.001430   \n",
       "Kelihos_ver3              0.996610            0.999369             0.000631   \n",
       "Lollipop                  0.919918            0.949022             0.050978   \n",
       "Obfuscator.ACY            0.909483            0.981462             0.018538   \n",
       "Ramnit                    0.798107            0.958535             0.041465   \n",
       "Simda                     0.000000            1.000000             0.000000   \n",
       "Tracur                    0.586667            0.990119             0.009881   \n",
       "Vundo                     0.877358            0.994681             0.005319   \n",
       "\n",
       "                false_negative_rate  false_discovery_rate  false_omission_rate  \n",
       "Gatak                      0.148325              0.063158             0.015625  \n",
       "Kelihos_ver1               0.092105              0.041667             0.003330  \n",
       "Kelihos_ver3               0.003390              0.001698             0.001262  \n",
       "Lollipop                   0.080082              0.161049             0.023780  \n",
       "Obfuscator.ACY             0.090517              0.145749             0.010898  \n",
       "Ramnit                     0.201893              0.233333             0.034707  \n",
       "Simda                      1.000000              0.000000             0.003220  \n",
       "Tracur                     0.413333              0.185185             0.030010  \n",
       "Vundo                      0.122642              0.105769             0.006280  "
      ]
     },
     "execution_count": 37,
     "metadata": {},
     "output_type": "execute_result"
    }
   ],
   "source": [
    "for num, fam in zip(range(25), list_fams):\n",
    "    data.rename(columns={data.columns[num]:fam}, inplace=True)\n",
    "\n",
    "data1 = data.drop(columns=['micro-average'])\n",
    "data1 = data1.T\n",
    "# data.drop(df.tail(1).index,inplace=True)\n",
    "\n",
    "data1['false_omission_rate'] = list(FOR)\n",
    "\n",
    "data1"
   ]
  },
  {
   "cell_type": "code",
   "execution_count": 38,
   "metadata": {},
   "outputs": [
    {
     "name": "stdout",
     "output_type": "stream",
     "text": [
      "Average of true_positive_rate --> 76.0857\n",
      "Average of true_negative_rate --> 98.5072\n",
      "Average of false_positive_rate --> 1.4928\n",
      "Average of false_negative_rate --> 23.9143\n",
      "Average of false_discovery_rate --> 10.4179\n",
      "Average of false_omission_rate --> 1.4346\n"
     ]
    }
   ],
   "source": [
    "for i in data1:\n",
    "    print('Average of', i, '-->', round((np.average(data1[i])*100), 4))"
   ]
  },
  {
   "cell_type": "code",
   "execution_count": 47,
   "metadata": {},
   "outputs": [
    {
     "name": "stdout",
     "output_type": "stream",
     "text": [
      "MCC Score: 0.86\n"
     ]
    }
   ],
   "source": [
    "#MCC value\n",
    "print('MCC Score:', round(matthews_corrcoef(y_true, y_pred), 2))"
   ]
  },
  {
   "cell_type": "code",
   "execution_count": 48,
   "metadata": {},
   "outputs": [
    {
     "data": {
      "text/plain": [
       "array([[0., 0., 0., ..., 0., 0., 0.],\n",
       "       [0., 0., 1., ..., 0., 0., 0.],\n",
       "       [0., 0., 1., ..., 0., 0., 0.],\n",
       "       ...,\n",
       "       [0., 0., 0., ..., 0., 0., 0.],\n",
       "       [0., 0., 0., ..., 0., 0., 0.],\n",
       "       [0., 0., 0., ..., 0., 0., 0.]], dtype=float32)"
      ]
     },
     "execution_count": 48,
     "metadata": {},
     "output_type": "execute_result"
    }
   ],
   "source": [
    "preds"
   ]
  },
  {
   "cell_type": "code",
   "execution_count": 49,
   "metadata": {},
   "outputs": [
    {
     "data": {
      "text/plain": [
       "array([[0., 0., 0., ..., 0., 0., 0.],\n",
       "       [0., 0., 1., ..., 0., 0., 0.],\n",
       "       [0., 0., 1., ..., 0., 0., 0.],\n",
       "       ...,\n",
       "       [0., 0., 0., ..., 0., 1., 0.],\n",
       "       [0., 0., 0., ..., 0., 0., 0.],\n",
       "       [1., 0., 0., ..., 0., 0., 0.]], dtype=float32)"
      ]
     },
     "execution_count": 49,
     "metadata": {},
     "output_type": "execute_result"
    }
   ],
   "source": [
    "y_test"
   ]
  },
  {
   "cell_type": "code",
   "execution_count": 56,
   "metadata": {},
   "outputs": [],
   "source": [
    "n_classes = 9\n",
    "\n",
    "# Compute ROC curve and ROC area for each class\n",
    "fpr = dict()\n",
    "tpr = dict()\n",
    "roc_auc = dict()\n",
    "for i in range(n_classes):\n",
    "    fpr[i], tpr[i], _ = roc_curve(y_test[:, i], preds[:, i])\n",
    "    roc_auc[i] = auc(fpr[i], tpr[i])\n",
    "\n",
    "# Compute micro-average ROC curve and ROC area\n",
    "fpr[\"micro\"], tpr[\"micro\"], _ = roc_curve(y_test.ravel(), preds.ravel())\n",
    "roc_auc[\"micro\"] = auc(fpr[\"micro\"], tpr[\"micro\"])"
   ]
  },
  {
   "cell_type": "code",
   "execution_count": 57,
   "metadata": {},
   "outputs": [
    {
     "data": {
      "image/png": "[encoded data removed]",
      "text/plain": [
       "<Figure size 576x360 with 1 Axes>"
      ]
     },
     "metadata": {
      "needs_background": "light"
     },
     "output_type": "display_data"
    }
   ],
   "source": [
    "# Compute macro-average ROC curve and ROC area\n",
    "\n",
    "n_classes = 9\n",
    "# First aggregate all false positive rates\n",
    "all_fpr = np.unique(np.concatenate([fpr[i] for i in range(n_classes)]))\n",
    "\n",
    "# Then interpolate all ROC curves at this points\n",
    "mean_tpr = np.zeros_like(all_fpr)\n",
    "for i in range(n_classes):\n",
    "    mean_tpr += np.interp(all_fpr, fpr[i], tpr[i])\n",
    "\n",
    "# Finally average it and compute AUC\n",
    "mean_tpr /= n_classes\n",
    "\n",
    "fpr[\"macro\"] = all_fpr\n",
    "tpr[\"macro\"] = mean_tpr\n",
    "roc_auc[\"macro\"] = auc(fpr[\"macro\"], tpr[\"macro\"])\n",
    "\n",
    "# Plot all ROC curves\n",
    "lw = 2.5   # line width\n",
    "plt.figure(figsize=(8,5))\n",
    "\n",
    "colors = cycle(['aqua', 'darkorange', 'cornflowerblue', 'lightgreen', 'green', 'red', 'cyan', 'blue', \n",
    "                 'pink', 'purple', 'brown', 'coral', 'chocolate', 'indigo', 'navy'])\n",
    "\n",
    "for i, color in zip(range(n_classes), colors):\n",
    "    plt.plot(fpr[i], tpr[i], color=color, linestyle='dashed', lw=lw,\n",
    "             label='ROC curve of class {0} (area = {1:0.2f})'\n",
    "             ''.format(i, roc_auc[i]))\n",
    "\n",
    "plt.xscale(\"log\")\n",
    "plt.xlabel('False Positive Rate (in log scale)', fontsize=11)\n",
    "plt.ylabel('True Positive Rate', fontsize=11)\n",
    "plt.savefig(\"/home/sanjeev/DL_Exp_Kajal/DL_Prasad_Exp/Microsoft_PoC/bytes_Plots/mobilenetV1_roc.eps\", bbox_inches='tight')\n",
    "plt.savefig(\"/home/sanjeev/DL_Exp_Kajal/DL_Prasad_Exp/Microsoft_PoC/bytes_Plots/mobilenetV1_roc.png\", bbox_inches='tight')\n",
    "\n",
    "plt.show()"
   ]
  },
  {
   "cell_type": "code",
   "execution_count": null,
   "metadata": {},
   "outputs": [],
   "source": []
  }
 ],
 "metadata": {
  "kernelspec": {
   "display_name": "Python 3",
   "language": "python",
   "name": "python3"
  }
 },
 "nbformat": 4,
 "nbformat_minor": 5
}
