{
 "cells": [
  {
   "cell_type": "code",
   "execution_count": 1,
   "metadata": {},
   "outputs": [
    {
     "name": "stderr",
     "output_type": "stream",
     "text": [
      "/home/sanjeev/anaconda3/lib/python3.7/site-packages/statsmodels/tools/_testing.py:19: FutureWarning: pandas.util.testing is deprecated. Use the functions in the public API at pandas.testing instead.\n",
      "  import pandas.util.testing as tm\n"
     ]
    }
   ],
   "source": [
    "import os\n",
    "import cv2\n",
    "import glob\n",
    "import random\n",
    "import warnings\n",
    "import numpy as np\n",
    "import seaborn as sns\n",
    "import tensorflow as tf\n",
    "from imutils import paths\n",
    "from itertools import cycle\n",
    "import matplotlib.pyplot as plt\n",
    "warnings.filterwarnings('ignore')\n",
    "from tensorflow.keras.models import Model\n",
    "from tensorflow.keras.preprocessing import image\n",
    "from tensorflow.keras.layers import GlobalAveragePooling2D\n",
    "from tensorflow.keras.applications.mobilenet_v2 import MobileNetV2\n",
    "from tensorflow.keras.applications.mobilenet import MobileNet, preprocess_input"
   ]
  },
  {
   "cell_type": "code",
   "execution_count": 2,
   "metadata": {},
   "outputs": [],
   "source": [
    "#base_path = '/home/sanjeev/DL_Exp_Malware/DL_Prasad_Exp/Microsoft_PoC/Plots/X.npy'' # Data Path \n",
    "base_path = '/home/sanjeev/DL_Exp_Malware/DL_Prasad_Exp/Microsoft_PoC/asm_images/'\n",
    "img_list = glob.glob(os.path.join(base_path, '*/*.png'))"
   ]
  },
  {
   "cell_type": "code",
   "execution_count": 3,
   "metadata": {},
   "outputs": [],
   "source": [
    "# classes in malimg data\n",
    "categories = os.listdir(base_path)\n",
    "labels = [i for i in range(len(categories))]\n",
    "label_dict = dict(zip(categories, labels))"
   ]
  },
  {
   "cell_type": "code",
   "execution_count": 4,
   "metadata": {},
   "outputs": [
    {
     "name": "stdout",
     "output_type": "stream",
     "text": [
      "Label: 0\tFamily:           Gatak\tNumber of images: 1013\n",
      "Label: 1\tFamily:    Kelihos_ver1\tNumber of images: 398\n",
      "Label: 2\tFamily:    Kelihos_ver3\tNumber of images: 2942\n",
      "Label: 3\tFamily:        Lollipop\tNumber of images: 2478\n",
      "Label: 4\tFamily:  Obfuscator.ACY\tNumber of images: 1228\n",
      "Label: 5\tFamily:          Ramnit\tNumber of images: 1541\n",
      "Label: 6\tFamily:           Simda\tNumber of images: 42\n",
      "Label: 7\tFamily:          Tracur\tNumber of images: 751\n",
      "Label: 8\tFamily:           Vundo\tNumber of images: 475\n"
     ]
    }
   ],
   "source": [
    "cur_dir = os.getcwd()\n",
    "os.chdir(base_path)  # the parent folder with sub-folders\n",
    "\n",
    "# Get number of samples per family\n",
    "list_fams = sorted(os.listdir(os.getcwd()), key=str.lower)  # vector of strings with family names\n",
    "no_imgs = []  # No. of samples per family\n",
    "\n",
    "for i in range(len(list_fams)):\n",
    "    os.chdir(list_fams[i])\n",
    "    len1 = len(glob.glob('*.png'))  # assuming the images are stored as 'png'\n",
    "    no_imgs.append(len1)\n",
    "    os.chdir('..')\n",
    "num_samples = np.sum(no_imgs)  # total number of all samples\n",
    "\n",
    "# Compute the labels\n",
    "y = np.zeros(num_samples)\n",
    "pos = 0\n",
    "label = 0\n",
    "fam = []\n",
    "for i in no_imgs:\n",
    "    print (\"Label:%2d\\tFamily: %15s\\tNumber of images: %d\" % (label, list_fams[label], i))\n",
    "    for j in range(i):\n",
    "        y[pos] = label\n",
    "        pos += 1\n",
    "        fam.append(list_fams[label])\n",
    "    label += 1\n",
    "num_classes = label"
   ]
  },
  {
   "cell_type": "code",
   "execution_count": null,
   "metadata": {},
   "outputs": [],
   "source": [
    "# Sample images from dataset\n",
    "for i, img_path in enumerate(random.sample(img_list, 6)):\n",
    "    img = image.load_img(img_path, target_size=(224, 224))\n",
    "    img = image.img_to_array(img, dtype=np.uint8)\n",
    "    plt.subplot(2, 3, i+1)\n",
    "    plt.imshow(img.squeeze())"
   ]
  },
  {
   "cell_type": "code",
   "execution_count": 4,
   "metadata": {},
   "outputs": [],
   "source": [
    "# Using Mobile net V1 as base model for feature extraction "
   ]
  },
  {
   "cell_type": "code",
   "execution_count": 9,
   "metadata": {},
   "outputs": [],
   "source": [
    "bytes_features = np.load('/home/sanjeev/DL_Exp_Malware/DL_Prasad_Exp/Microsoft_PoC/Plots/MobileNetV1_feat_bytes_microsoft_1024.npy')\n",
    "asm_features = np.load('/home/sanjeev/DL_Exp_Malware/DL_Prasad_Exp/Microsoft_PoC/Plots/MobileNetV1_feat_asm_microsoft_1024.npy')"
   ]
  },
  {
   "cell_type": "code",
   "execution_count": 10,
   "metadata": {},
   "outputs": [
    {
     "data": {
      "text/plain": [
       "((10868, 1024), (10868, 1024))"
      ]
     },
     "execution_count": 10,
     "metadata": {},
     "output_type": "execute_result"
    }
   ],
   "source": [
    "bytes_features.shape, asm_features.shape"
   ]
  },
  {
   "cell_type": "code",
   "execution_count": 11,
   "metadata": {},
   "outputs": [],
   "source": [
    "X = []\n",
    "for i in range(len(asm_features)):\n",
    "    x = list(np.hstack((asm_features[i], bytes_features[i])))\n",
    "    X.append(x)"
   ]
  },
  {
   "cell_type": "code",
   "execution_count": 12,
   "metadata": {},
   "outputs": [
    {
     "data": {
      "text/plain": [
       "(10868, 2048)"
      ]
     },
     "execution_count": 12,
     "metadata": {},
     "output_type": "execute_result"
    }
   ],
   "source": [
    "X =  np.array(X)\n",
    "X.shape"
   ]
  },
  {
   "cell_type": "markdown",
   "metadata": {},
   "source": [
    "## Classification using KNN(K-Nearest Neighbors)"
   ]
  },
  {
   "cell_type": "code",
   "execution_count": 33,
   "metadata": {},
   "outputs": [],
   "source": [
    "import pandas as pd\n",
    "import disarray as da\n",
    "from sklearn import tree\n",
    "from sklearn import metrics\n",
    "from sklearn.model_selection import GridSearchCV\n",
    "from sklearn.neighbors import KNeighborsClassifier\n",
    "from sklearn.model_selection import cross_val_score\n",
    "from sklearn.model_selection import train_test_split\n",
    "from sklearn.metrics import precision_recall_fscore_support\n",
    "from sklearn.preprocessing import StandardScaler, OneHotEncoder\n",
    "from sklearn.metrics import accuracy_score,classification_report,confusion_matrix, matthews_corrcoef, roc_curve, auc"
   ]
  },
  {
   "cell_type": "code",
   "execution_count": 34,
   "metadata": {},
   "outputs": [],
   "source": [
    "X_train, X_test, y_train, y_test = train_test_split(X, y, test_size=0.21, random_state=42)"
   ]
  },
  {
   "cell_type": "code",
   "execution_count": 35,
   "metadata": {},
   "outputs": [
    {
     "name": "stdout",
     "output_type": "stream",
     "text": [
      "X_Train: (8585, 2048)\n",
      "Y_Train: (8585,)\n",
      "X_Test: (2283, 2048)\n",
      "Y_Test: (2283,)\n"
     ]
    }
   ],
   "source": [
    "print(\"X_Train:\", X_train.shape)\n",
    "print(\"Y_Train:\", y_train.shape)\n",
    "print(\"X_Test:\", X_test.shape)\n",
    "print(\"Y_Test:\", y_test.shape)"
   ]
  },
  {
   "cell_type": "code",
   "execution_count": 36,
   "metadata": {},
   "outputs": [],
   "source": [
    "# X_train = X_train // 255.0\n",
    "# X_test = X_test // 255.0"
   ]
  },
  {
   "cell_type": "code",
   "execution_count": 37,
   "metadata": {},
   "outputs": [],
   "source": [
    "knn = KNeighborsClassifier(leaf_size = 7, n_neighbors = 3,p = 1)"
   ]
  },
  {
   "cell_type": "code",
   "execution_count": 38,
   "metadata": {},
   "outputs": [
    {
     "name": "stdout",
     "output_type": "stream",
     "text": [
      "CPU times: user 34.6 ms, sys: 0 ns, total: 34.6 ms\n",
      "Wall time: 33.2 ms\n"
     ]
    },
    {
     "data": {
      "text/plain": [
       "KNeighborsClassifier(leaf_size=7, n_neighbors=3, p=1)"
      ]
     },
     "execution_count": 38,
     "metadata": {},
     "output_type": "execute_result"
    }
   ],
   "source": [
    "%%time\n",
    "knn.fit(X_train,y_train)"
   ]
  },
  {
   "cell_type": "code",
   "execution_count": 39,
   "metadata": {},
   "outputs": [
    {
     "name": "stdout",
     "output_type": "stream",
     "text": [
      "Testing Accuracy: 91.33\n"
     ]
    }
   ],
   "source": [
    "print(\"Testing Accuracy:\", round((knn.score(X_test, y_test) * 100), 2))"
   ]
  },
  {
   "cell_type": "code",
   "execution_count": 40,
   "metadata": {},
   "outputs": [
    {
     "name": "stdout",
     "output_type": "stream",
     "text": [
      "CPU times: user 35.6 s, sys: 135 ms, total: 35.7 s\n",
      "Wall time: 35.7 s\n"
     ]
    }
   ],
   "source": [
    "%%time\n",
    "y_pred = knn.predict(X_test)"
   ]
  },
  {
   "cell_type": "code",
   "execution_count": 21,
   "metadata": {},
   "outputs": [
    {
     "name": "stdout",
     "output_type": "stream",
     "text": [
      "91 91 91\n",
      "CPU times: user 4.94 ms, sys: 63 µs, total: 5.01 ms\n",
      "Wall time: 3.79 ms\n"
     ]
    }
   ],
   "source": [
    "%%time\n",
    "ls = precision_recall_fscore_support(y_test, y_pred, average='micro')\n",
    "print(int(round(ls[0]*100, 0)), int(round(ls[1]*100, 0)), int(round(ls[2]*100, 0)))"
   ]
  },
  {
   "cell_type": "code",
   "execution_count": 22,
   "metadata": {},
   "outputs": [
    {
     "name": "stdout",
     "output_type": "stream",
     "text": [
      "              precision    recall  f1-score   support\n",
      "\n",
      "         0.0       0.97      0.92      0.94       230\n",
      "         1.0       0.93      0.94      0.93        80\n",
      "         2.0       1.00      1.00      1.00       623\n",
      "         3.0       0.94      0.85      0.89       558\n",
      "         4.0       0.89      0.94      0.92       231\n",
      "         5.0       0.76      0.89      0.82       283\n",
      "         6.0       0.00      0.00      0.00         0\n",
      "         7.0       0.78      0.73      0.75       166\n",
      "         8.0       0.97      0.97      0.97       112\n",
      "\n",
      "    accuracy                           0.91      2283\n",
      "   macro avg       0.80      0.81      0.80      2283\n",
      "weighted avg       0.92      0.91      0.92      2283\n",
      "\n"
     ]
    }
   ],
   "source": [
    "accuracy_score(y_pred,y_test)\n",
    "print(classification_report(y_pred,y_test))"
   ]
  },
  {
   "cell_type": "code",
   "execution_count": 1,
   "metadata": {},
   "outputs": [
    {
     "name": "stdout",
     "output_type": "stream",
     "text": [
      "0.81\n",
      "0.93\n",
      "0.94\n",
      "0.9\n",
      "0.89\n",
      "0.94\n",
      "0.36\n",
      "0.78\n",
      "0.52\n"
     ]
    }
   ],
   "source": [
    "data = [\n",
    "    {\"Class\": \"Gatak\", \"Precision\": 0.87, \"Recall\": 0.76, \"F1-Score\": 0.81, \"Support\": 261},\n",
    "    {\"Class\": \"Kelihos_ver1\", \"Precision\": 0.95, \"Recall\": 0.92, \"F1-Score\": 0.93, \"Support\": 85},\n",
    "    {\"Class\": \"Kelihos_ver3\", \"Precision\": 0.97, \"Recall\": 0.91, \"F1-Score\": 0.94, \"Support\": 682},\n",
    "    {\"Class\": \"Lollipop\", \"Precision\": 0.90, \"Recall\": 0.90, \"F1-Score\": 0.90, \"Support\": 512},\n",
    "    {\"Class\": \"Obfuscator.ACY\", \"Precision\": 0.86, \"Recall\": 0.93, \"F1-Score\": 0.89, \"Support\": 228},\n",
    "    {\"Class\": \"Ramnit\", \"Precision\": 0.94, \"Recall\": 0.94, \"F1-Score\": 0.94, \"Support\": 316},\n",
    "    {\"Class\": \"Simda\", \"Precision\": 0.22, \"Recall\": 1.00, \"F1-Score\": 0.36, \"Support\": 2},\n",
    "    {\"Class\": \"Tracur\", \"Precision\": 0.74, \"Recall\": 0.84, \"F1-Score\": 0.78, \"Support\": 134},\n",
    "    {\"Class\": \"Vundo\", \"Precision\": 0.42, \"Recall\": 0.70, \"F1-Score\": 0.52, \"Support\": 63},\n",
    "]\n",
    "precision_values = [item[\"F1-Score\"] for item in data]\n",
    "for value in precision_values:\n",
    "    print(value)"
   ]
  },
  {
   "cell_type": "code",
   "execution_count": 28,
   "metadata": {},
   "outputs": [],
   "source": [
    "# GridSearchCV"
   ]
  },
  {
   "cell_type": "code",
   "execution_count": 47,
   "metadata": {},
   "outputs": [],
   "source": [
    "param_grid = {'n_neighbors': range(1, 11),\n",
    "              'metric': ['euclidean', 'manhattan', 'chebyshev']}"
   ]
  },
  {
   "cell_type": "code",
   "execution_count": 48,
   "metadata": {},
   "outputs": [
    {
     "name": "stdout",
     "output_type": "stream",
     "text": [
      "CPU times: user 84 µs, sys: 21 µs, total: 105 µs\n",
      "Wall time: 117 µs\n"
     ]
    }
   ],
   "source": [
    "%%time\n",
    "# Perform cross-validation and grid search to find the best hyperparameters\n",
    "grid_search = GridSearchCV(knn, param_grid, cv=5, scoring='accuracy')"
   ]
  },
  {
   "cell_type": "code",
   "execution_count": 49,
   "metadata": {},
   "outputs": [
    {
     "name": "stdout",
     "output_type": "stream",
     "text": [
      "CPU times: user 54min 21s, sys: 12min 35s, total: 1h 6min 57s\n",
      "Wall time: 41min 9s\n"
     ]
    },
    {
     "data": {
      "text/plain": [
       "GridSearchCV(cv=5,\n",
       "             estimator=KNeighborsClassifier(leaf_size=7, n_neighbors=3, p=1),\n",
       "             param_grid={'metric': ['euclidean', 'manhattan', 'chebyshev'],\n",
       "                         'n_neighbors': range(1, 11)},\n",
       "             scoring='accuracy')"
      ]
     },
     "execution_count": 49,
     "metadata": {},
     "output_type": "execute_result"
    }
   ],
   "source": [
    "%%time\n",
    "grid_search.fit(X_train, y_train)"
   ]
  },
  {
   "cell_type": "code",
   "execution_count": 50,
   "metadata": {},
   "outputs": [
    {
     "name": "stdout",
     "output_type": "stream",
     "text": [
      "Best hyperparameters: {'metric': 'manhattan', 'n_neighbors': 1}\n"
     ]
    }
   ],
   "source": [
    "print(\"Best hyperparameters:\", grid_search.best_params_)"
   ]
  },
  {
   "cell_type": "code",
   "execution_count": null,
   "metadata": {},
   "outputs": [],
   "source": [
    "# to be added in remaining code\n",
    "\n",
    "print(\"Accuracy on testing set: {:.3f}\".format(grid_search.score(X_test, y_test)))"
   ]
  },
  {
   "cell_type": "code",
   "execution_count": null,
   "metadata": {},
   "outputs": [],
   "source": [
    "y_pred = grid_search.predict(X_test)\n",
    "print(\"Classification report:\\n\", classification_report(y_test, y_pred))"
   ]
  },
  {
   "cell_type": "code",
   "execution_count": null,
   "metadata": {},
   "outputs": [],
   "source": [
    "list_fams = sorted(label_dict.keys())"
   ]
  },
  {
   "cell_type": "code",
   "execution_count": null,
   "metadata": {},
   "outputs": [],
   "source": [
    "classification_metrices = metrics.classification_report(y_test, y_pred, output_dict=True, target_names= list_fams)\n",
    "df = pd.DataFrame(classification_metrices).transpose()\n",
    "df.to_csv('/home/sanjeev/DL_Exp_Kajal/DL_Prasad_Exp/Microsoft_PoC/Experiment_3/plots/MobileNetV1_KNN_asm.csv')"
   ]
  },
  {
   "cell_type": "code",
   "execution_count": null,
   "metadata": {},
   "outputs": [],
   "source": [
    "conf_matrix = confusion_matrix(y_test, y_pred)\n",
    "\n",
    "print(\"Plotting the confusion matrix\")\n",
    "conf_mat = np.around(conf_matrix, decimals=2)  \n",
    "figure = plt.gcf()\n",
    "figure.set_size_inches(11, 10)\n",
    "plt.imshow(conf_mat, interpolation='nearest', cmap='ocean_r')\n",
    "\n",
    "for row in range(len(list_fams)):\n",
    "    for col in range(len(list_fams)):\n",
    "        plt.annotate(str(conf_mat[row][col]), xy=(col,row), ha='center', va='top', fontsize=11)\n",
    "        \n",
    "plt.xticks(range(len(list_fams)), list_fams, rotation=90, fontsize=12)\n",
    "plt.yticks(range(len(list_fams)+1), list_fams, fontsize=12)\n",
    "\n",
    "plt.ylabel('True label', fontsize=12)\n",
    "plt.xlabel('Predicted label', fontsize=12)\n",
    "\n",
    "plt.tight_layout()\n",
    "plt.colorbar()\n",
    "plt.savefig('/home/sanjeev/DL_Exp_Kajal/DL_Prasad_Exp/Microsoft_PoC/Experiment_3/plots/MobileNetV1_KNN_asm.eps', bbox_inches='tight')\n",
    "plt.savefig('/home/sanjeev/DL_Exp_Kajal/DL_Prasad_Exp/Microsoft_PoC/Experiment_3/plots/MobileNetV1_KNN_asm.png', bbox_inches='tight')\n",
    "\n",
    "plt.show()"
   ]
  },
  {
   "cell_type": "code",
   "execution_count": 38,
   "metadata": {},
   "outputs": [],
   "source": [
    "cm = confusion_matrix(y_test, y_pred)\n",
    "df = pd.DataFrame(cm)"
   ]
  },
  {
   "cell_type": "code",
   "execution_count": 39,
   "metadata": {},
   "outputs": [],
   "source": [
    "pd.set_option('display.max_columns', None)  # force to display any number of columns."
   ]
  },
  {
   "cell_type": "code",
   "execution_count": 40,
   "metadata": {},
   "outputs": [],
   "source": [
    "#calculating true positives, false positives, true negatives and false negatives from confusion matrix\n",
    "FP = cm.sum(axis=0) - np.diag(cm)  \n",
    "FN = cm.sum(axis=1) - np.diag(cm)\n",
    "TP = np.diag(cm)\n",
    "TN = cm.sum() - (FP + FN + TP)"
   ]
  },
  {
   "cell_type": "code",
   "execution_count": 41,
   "metadata": {},
   "outputs": [
    {
     "data": {
      "text/plain": [
       "(array([15,  4,  1, 52, 10, 36,  6, 46,  2]),\n",
       " array([ 8,  4,  3, 36, 20, 70,  6, 23,  2]),\n",
       " array([211,  77, 621, 471, 225, 262,   1, 133, 110]),\n",
       " array([2049, 2198, 1658, 1724, 2028, 1915, 2270, 2081, 2169]))"
      ]
     },
     "execution_count": 41,
     "metadata": {},
     "output_type": "execute_result"
    }
   ],
   "source": [
    "FP, FN, TP, TN"
   ]
  },
  {
   "cell_type": "code",
   "execution_count": 42,
   "metadata": {},
   "outputs": [
    {
     "data": {
      "text/plain": [
       "array([0.00388916, 0.00181653, 0.00180614, 0.02045455, 0.00976562,\n",
       "       0.03526448, 0.0026362 , 0.01093156, 0.00092123])"
      ]
     },
     "execution_count": 42,
     "metadata": {},
     "output_type": "execute_result"
    }
   ],
   "source": [
    "#calculating false_omission_rate\n",
    "NPV = TN/(TN+FN)\n",
    "FOR = 1-NPV\n",
    "FOR"
   ]
  },
  {
   "cell_type": "code",
   "execution_count": 43,
   "metadata": {},
   "outputs": [],
   "source": [
    "data = df.da.export_metrics(metrics_to_include=['true_positive_rate', 'true_negative_rate', 'false_positive_rate', \n",
    "                                              'false_negative_rate', 'false_discovery_rate'])"
   ]
  },
  {
   "cell_type": "code",
   "execution_count": 44,
   "metadata": {},
   "outputs": [
    {
     "data": {
      "text/html": [
       "<div>\n",
       "<style scoped>\n",
       "    .dataframe tbody tr th:only-of-type {\n",
       "        vertical-align: middle;\n",
       "    }\n",
       "\n",
       "    .dataframe tbody tr th {\n",
       "        vertical-align: top;\n",
       "    }\n",
       "\n",
       "    .dataframe thead th {\n",
       "        text-align: right;\n",
       "    }\n",
       "</style>\n",
       "<table border=\"1\" class=\"dataframe\">\n",
       "  <thead>\n",
       "    <tr style=\"text-align: right;\">\n",
       "      <th></th>\n",
       "      <th>true_positive_rate</th>\n",
       "      <th>true_negative_rate</th>\n",
       "      <th>false_positive_rate</th>\n",
       "      <th>false_negative_rate</th>\n",
       "      <th>false_discovery_rate</th>\n",
       "      <th>false_omission_rate</th>\n",
       "    </tr>\n",
       "  </thead>\n",
       "  <tbody>\n",
       "    <tr>\n",
       "      <th>Gatak</th>\n",
       "      <td>0.963470</td>\n",
       "      <td>0.992733</td>\n",
       "      <td>0.007267</td>\n",
       "      <td>0.036530</td>\n",
       "      <td>0.066372</td>\n",
       "      <td>0.003889</td>\n",
       "    </tr>\n",
       "    <tr>\n",
       "      <th>Kelihos_ver1</th>\n",
       "      <td>0.950617</td>\n",
       "      <td>0.998183</td>\n",
       "      <td>0.001817</td>\n",
       "      <td>0.049383</td>\n",
       "      <td>0.049383</td>\n",
       "      <td>0.001817</td>\n",
       "    </tr>\n",
       "    <tr>\n",
       "      <th>Kelihos_ver3</th>\n",
       "      <td>0.995192</td>\n",
       "      <td>0.999397</td>\n",
       "      <td>0.000603</td>\n",
       "      <td>0.004808</td>\n",
       "      <td>0.001608</td>\n",
       "      <td>0.001806</td>\n",
       "    </tr>\n",
       "    <tr>\n",
       "      <th>Lollipop</th>\n",
       "      <td>0.928994</td>\n",
       "      <td>0.970721</td>\n",
       "      <td>0.029279</td>\n",
       "      <td>0.071006</td>\n",
       "      <td>0.099426</td>\n",
       "      <td>0.020455</td>\n",
       "    </tr>\n",
       "    <tr>\n",
       "      <th>Obfuscator.ACY</th>\n",
       "      <td>0.918367</td>\n",
       "      <td>0.995093</td>\n",
       "      <td>0.004907</td>\n",
       "      <td>0.081633</td>\n",
       "      <td>0.042553</td>\n",
       "      <td>0.009766</td>\n",
       "    </tr>\n",
       "    <tr>\n",
       "      <th>Ramnit</th>\n",
       "      <td>0.789157</td>\n",
       "      <td>0.981548</td>\n",
       "      <td>0.018452</td>\n",
       "      <td>0.210843</td>\n",
       "      <td>0.120805</td>\n",
       "      <td>0.035264</td>\n",
       "    </tr>\n",
       "    <tr>\n",
       "      <th>Simda</th>\n",
       "      <td>0.142857</td>\n",
       "      <td>0.997364</td>\n",
       "      <td>0.002636</td>\n",
       "      <td>0.857143</td>\n",
       "      <td>0.857143</td>\n",
       "      <td>0.002636</td>\n",
       "    </tr>\n",
       "    <tr>\n",
       "      <th>Tracur</th>\n",
       "      <td>0.852564</td>\n",
       "      <td>0.978373</td>\n",
       "      <td>0.021627</td>\n",
       "      <td>0.147436</td>\n",
       "      <td>0.256983</td>\n",
       "      <td>0.010932</td>\n",
       "    </tr>\n",
       "    <tr>\n",
       "      <th>Vundo</th>\n",
       "      <td>0.982143</td>\n",
       "      <td>0.999079</td>\n",
       "      <td>0.000921</td>\n",
       "      <td>0.017857</td>\n",
       "      <td>0.017857</td>\n",
       "      <td>0.000921</td>\n",
       "    </tr>\n",
       "  </tbody>\n",
       "</table>\n",
       "</div>"
      ],
      "text/plain": [
       "                true_positive_rate  true_negative_rate  false_positive_rate  \\\n",
       "Gatak                     0.963470            0.992733             0.007267   \n",
       "Kelihos_ver1              0.950617            0.998183             0.001817   \n",
       "Kelihos_ver3              0.995192            0.999397             0.000603   \n",
       "Lollipop                  0.928994            0.970721             0.029279   \n",
       "Obfuscator.ACY            0.918367            0.995093             0.004907   \n",
       "Ramnit                    0.789157            0.981548             0.018452   \n",
       "Simda                     0.142857            0.997364             0.002636   \n",
       "Tracur                    0.852564            0.978373             0.021627   \n",
       "Vundo                     0.982143            0.999079             0.000921   \n",
       "\n",
       "                false_negative_rate  false_discovery_rate  false_omission_rate  \n",
       "Gatak                      0.036530              0.066372             0.003889  \n",
       "Kelihos_ver1               0.049383              0.049383             0.001817  \n",
       "Kelihos_ver3               0.004808              0.001608             0.001806  \n",
       "Lollipop                   0.071006              0.099426             0.020455  \n",
       "Obfuscator.ACY             0.081633              0.042553             0.009766  \n",
       "Ramnit                     0.210843              0.120805             0.035264  \n",
       "Simda                      0.857143              0.857143             0.002636  \n",
       "Tracur                     0.147436              0.256983             0.010932  \n",
       "Vundo                      0.017857              0.017857             0.000921  "
      ]
     },
     "execution_count": 44,
     "metadata": {},
     "output_type": "execute_result"
    }
   ],
   "source": [
    "for num, fam in zip(range(25), list_fams):\n",
    "    data.rename(columns={data.columns[num]:fam}, inplace=True)\n",
    "\n",
    "data1 = data.drop(columns=['micro-average'])\n",
    "data1 = data1.T\n",
    "# data.drop(df.tail(1).index,inplace=True)\n",
    "\n",
    "data1['false_omission_rate'] = list(FOR)\n",
    "\n",
    "data1"
   ]
  },
  {
   "cell_type": "code",
   "execution_count": 45,
   "metadata": {},
   "outputs": [
    {
     "name": "stdout",
     "output_type": "stream",
     "text": [
      "Average of true_positive_rate --> 83.5929\n",
      "Average of true_negative_rate --> 99.0277\n",
      "Average of false_positive_rate --> 0.9723\n",
      "Average of false_negative_rate --> 16.4071\n",
      "Average of false_discovery_rate --> 16.8014\n",
      "Average of false_omission_rate --> 0.9721\n"
     ]
    }
   ],
   "source": [
    "for i in data1:\n",
    "    print('Average of', i, '-->', round((np.average(data1[i])*100), 4))"
   ]
  },
  {
   "cell_type": "code",
   "execution_count": 46,
   "metadata": {},
   "outputs": [
    {
     "name": "stdout",
     "output_type": "stream",
     "text": [
      "MCC Score: 0.91\n"
     ]
    }
   ],
   "source": [
    "#MCC value\n",
    "print('MCC Score:', round(matthews_corrcoef(y_test, y_pred), 2))"
   ]
  },
  {
   "cell_type": "code",
   "execution_count": 47,
   "metadata": {},
   "outputs": [
    {
     "name": "stdout",
     "output_type": "stream",
     "text": [
      "micro_precision : 0.9246605343845817\n",
      "micro_recall : 0.9246605343845817\n",
      "micro_f1_score : 0.9246605343845817\n"
     ]
    }
   ],
   "source": [
    "print(\"micro_precision :\", metrics.precision_score(y_test, y_pred, average='micro'))\n",
    "print(\"micro_recall :\", metrics.recall_score(y_test, y_pred, average='micro'))\n",
    "print(\"micro_f1_score :\", metrics.f1_score(y_test, y_pred, average='micro'))"
   ]
  },
  {
   "cell_type": "code",
   "execution_count": 48,
   "metadata": {},
   "outputs": [
    {
     "name": "stdout",
     "output_type": "stream",
     "text": [
      "macro_precision : 0.8319855220465863\n",
      "macro_recall : 0.835929118902974\n",
      "macro_f1_score : 0.8331734007897126\n"
     ]
    }
   ],
   "source": [
    "print(\"macro_precision :\", metrics.precision_score(y_test, y_pred, average='macro'))\n",
    "print(\"macro_recall :\", metrics.recall_score(y_test, y_pred, average='macro'))\n",
    "print(\"macro_f1_score :\", metrics.f1_score(y_test, y_pred, average='macro'))"
   ]
  },
  {
   "cell_type": "code",
   "execution_count": 49,
   "metadata": {},
   "outputs": [],
   "source": [
    "enc = OneHotEncoder()\n",
    "enc.fit(y_train.reshape(-1, 1))  \n",
    "y_test = enc.transform(y_test.reshape(-1, 1))\n",
    "y_pred = enc.transform(y_pred.reshape(-1, 1))"
   ]
  },
  {
   "cell_type": "code",
   "execution_count": 50,
   "metadata": {},
   "outputs": [],
   "source": [
    "y_test = y_test.toarray()\n",
    "y_pred = y_pred.toarray()"
   ]
  },
  {
   "cell_type": "code",
   "execution_count": 51,
   "metadata": {},
   "outputs": [],
   "source": [
    "n_classes = 9\n",
    "\n",
    "# Compute ROC curve and ROC area for each class\n",
    "fpr = dict()\n",
    "tpr = dict()\n",
    "roc_auc = dict()\n",
    "for i in range(n_classes):\n",
    "    fpr[i], tpr[i], _ = roc_curve(y_test[:, i], y_pred[:, i])\n",
    "    roc_auc[i] = auc(fpr[i], tpr[i])\n",
    "\n",
    "# Compute micro-average ROC curve and ROC area\n",
    "fpr[\"micro\"], tpr[\"micro\"], _ = roc_curve(y_test.ravel(), y_pred.ravel())\n",
    "roc_auc[\"micro\"] = auc(fpr[\"micro\"], tpr[\"micro\"])"
   ]
  },
  {
   "cell_type": "code",
   "execution_count": 52,
   "metadata": {},
   "outputs": [
    {
     "data": {
      "image/png": "[encoded data removed]",
      "text/plain": [
       "<Figure size 576x360 with 1 Axes>"
      ]
     },
     "metadata": {
      "needs_background": "light"
     },
     "output_type": "display_data"
    }
   ],
   "source": [
    "# Compute macro-average ROC curve and ROC area\n",
    "\n",
    "n_classes = 9\n",
    "# First aggregate all false positive rates\n",
    "all_fpr = np.unique(np.concatenate([fpr[i] for i in range(n_classes)]))\n",
    "\n",
    "# Then interpolate all ROC curves at this points\n",
    "mean_tpr = np.zeros_like(all_fpr)\n",
    "for i in range(n_classes):\n",
    "    mean_tpr += np.interp(all_fpr, fpr[i], tpr[i])\n",
    "\n",
    "# Finally average it and compute AUC\n",
    "mean_tpr /= n_classes\n",
    "\n",
    "fpr[\"macro\"] = all_fpr\n",
    "tpr[\"macro\"] = mean_tpr\n",
    "roc_auc[\"macro\"] = auc(fpr[\"macro\"], tpr[\"macro\"])\n",
    "\n",
    "# Plot all ROC curves\n",
    "lw = 2.5   # line width\n",
    "plt.figure(figsize=(8,5))\n",
    "\n",
    "colors = cycle(['aqua', 'darkorange', 'cornflowerblue', 'lightgreen', 'green', 'red', 'cyan', 'blue', \n",
    "                 'pink', 'purple', 'brown', 'coral', 'chocolate', 'indigo', 'navy'])\n",
    "\n",
    "for i, color in zip(range(n_classes), colors):\n",
    "    plt.plot(fpr[i], tpr[i], color=color, linestyle='dashed', lw=lw,\n",
    "             label='ROC curve of class {0} (area = {1:0.2f})'\n",
    "             ''.format(i, roc_auc[i]))\n",
    "\n",
    "plt.xscale(\"log\")\n",
    "plt.xlabel('False Positive Rate (in log scale)', fontsize=11)\n",
    "plt.ylabel('True Positive Rate', fontsize=11)\n",
    "plt.savefig(\"/home/sanjeev/DL_Exp_Kajal/DL_Prasad_Exp/Microsoft_PoC/Experiment_3/plots/MobileNetV1_KNN_asm.eps\", bbox_inches='tight')\n",
    "plt.savefig(\"/home/sanjeev/DL_Exp_Kajal/DL_Prasad_Exp/Microsoft_PoC/Experiment_3/plots/MobileNetV1_KNN_asm.png\", bbox_inches='tight')\n",
    "\n",
    "plt.show()"
   ]
  }
 ],
 "metadata": {
  "kernelspec": {
   "display_name": "Python 3",
   "language": "python",
   "name": "python3"
  },
  "language_info": {
   "codemirror_mode": {
    "name": "ipython",
    "version": 3
   },
   "file_extension": ".py",
   "mimetype": "text/x-python",
   "name": "python",
   "nbconvert_exporter": "python",
   "pygments_lexer": "ipython3",
   "version": "3.7.4"
  }
 },
 "nbformat": 4,
 "nbformat_minor": 4
}
