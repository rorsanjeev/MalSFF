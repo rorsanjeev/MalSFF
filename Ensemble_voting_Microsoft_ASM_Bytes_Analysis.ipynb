{
 "cells": [
  {
   "cell_type": "code",
   "execution_count": 1,
   "metadata": {},
   "outputs": [],
   "source": [
    "import os\n",
    "import cv2\n",
    "import glob\n",
    "import random\n",
    "import warnings\n",
    "import numpy as np\n",
    "from PIL import Image\n",
    "import disarray as da\n",
    "import seaborn as sns\n",
    "import tensorflow as tf\n",
    "from imutils import paths\n",
    "from tensorflow.keras.utils import load_img, img_to_array\n",
    "from itertools import cycle\n",
    "import matplotlib.pyplot as plt\n",
    "warnings.filterwarnings('ignore')\n",
    "from tensorflow.keras.preprocessing import image\n",
    "from tensorflow.keras.applications.mobilenet import MobileNet, preprocess_input\n",
    "from tensorflow.keras.models import Sequential\n",
    "from tensorflow.keras.layers import Dense, Dropout\n",
    "from sklearn.model_selection import train_test_split\n",
    "from sklearn.metrics import accuracy_score, classification_report, confusion_matrix\n",
    "import matplotlib.pyplot as plt\n",
    "import seaborn as sns\n"
   ]
  },
  {
   "cell_type": "code",
   "execution_count": 21,
   "metadata": {},
   "outputs": [],
   "source": [
    "from sklearn.ensemble import RandomForestClassifier, GradientBoostingClassifier\n",
    "from sklearn.svm import SVC\n",
    "from sklearn.model_selection import train_test_split\n",
    "from sklearn.metrics import accuracy_score\n",
    "from sklearn.preprocessing import StandardScaler\n",
    "from sklearn.decomposition import PCA\n",
    "import matplotlib.pyplot as plt"
   ]
  },
  {
   "cell_type": "code",
   "execution_count": 2,
   "metadata": {},
   "outputs": [],
   "source": [
    "base_path = '/home/sanjeev/ML_Dataset/microsoft_dataset/asm_img/'"
   ]
  },
  {
   "cell_type": "code",
   "execution_count": 3,
   "metadata": {},
   "outputs": [],
   "source": [
    "cur_dir = os.getcwd()\n",
    "os.chdir(base_path)"
   ]
  },
  {
   "cell_type": "code",
   "execution_count": 4,
   "metadata": {},
   "outputs": [],
   "source": [
    "img_list = glob.glob(os.path.join(base_path, '*/*.png'))"
   ]
  },
  {
   "cell_type": "code",
   "execution_count": 5,
   "metadata": {},
   "outputs": [],
   "source": [
    "categories = os.listdir(base_path)\n",
    "labels = [i for i in range(len(categories))]\n",
    "label_dict = dict(zip(categories, labels))"
   ]
  },
  {
   "cell_type": "code",
   "execution_count": 6,
   "metadata": {},
   "outputs": [
    {
     "name": "stdout",
     "output_type": "stream",
     "text": [
      "Label: 0\tFamily: .ipynb_checkpoints\tNumber of images: 0\n",
      "Label: 1\tFamily:           Gatak\tNumber of images: 1013\n",
      "Label: 2\tFamily:    Kelihos_ver1\tNumber of images: 398\n",
      "Label: 3\tFamily:    Kelihos_ver3\tNumber of images: 2942\n",
      "Label: 4\tFamily:        Lollipop\tNumber of images: 2478\n",
      "Label: 5\tFamily:  Obfuscator.ACY\tNumber of images: 1228\n",
      "Label: 6\tFamily:          Ramnit\tNumber of images: 1541\n",
      "Label: 7\tFamily:           Simda\tNumber of images: 42\n",
      "Label: 8\tFamily:          Tracur\tNumber of images: 751\n",
      "Label: 9\tFamily:           Vundo\tNumber of images: 475\n"
     ]
    }
   ],
   "source": [
    "cur_dir = os.getcwd()\n",
    "os.chdir(base_path)  # the parent folder with sub-folders\n",
    "\n",
    "# Get number of samples per family\n",
    "list_fams = sorted(os.listdir(os.getcwd()), key=str.lower)  # vector of strings with family names\n",
    "no_imgs = []  # No. of samples per family\n",
    "\n",
    "for i in range(len(list_fams)):\n",
    "    os.chdir(list_fams[i])\n",
    "    len1 = len(glob.glob('*.png'))  # assuming the images are stored as 'png'\n",
    "    no_imgs.append(len1)\n",
    "    os.chdir('..')\n",
    "num_samples = np.sum(no_imgs)  # total number of all samples\n",
    "\n",
    "# Compute the labels\n",
    "y = np.zeros(num_samples)\n",
    "pos = 0\n",
    "label = 0\n",
    "fam = []\n",
    "for i in no_imgs:\n",
    "    print (\"Label:%2d\\tFamily: %15s\\tNumber of images: %d\" % (label, list_fams[label], i))\n",
    "    for j in range(i):\n",
    "        y[pos] = label\n",
    "        pos += 1\n",
    "        fam.append(list_fams[label])\n",
    "    label += 1\n",
    "num_classes = label"
   ]
  },
  {
   "cell_type": "code",
   "execution_count": 7,
   "metadata": {},
   "outputs": [],
   "source": [
    "asm_features = np.load('/home/sanjeev/DL_Exp_Malware/DL_Prasad_Exp/Microsoft_PoC/Experiment_2/asm_plots/MobileNetV3_Large_X.npy')\n",
    "y = np.load('/home/sanjeev/DL_Exp_Malware/DL_Prasad_Exp/Microsoft_PoC/Experiment_2/asm_plots/MobileNetV3_Large_y.npy')"
   ]
  },
  {
   "cell_type": "code",
   "execution_count": 11,
   "metadata": {},
   "outputs": [
    {
     "data": {
      "text/plain": [
       "(10868, 1024)"
      ]
     },
     "execution_count": 11,
     "metadata": {},
     "output_type": "execute_result"
    }
   ],
   "source": [
    "asm_features.shape"
   ]
  },
  {
   "cell_type": "code",
   "execution_count": 12,
   "metadata": {},
   "outputs": [
    {
     "data": {
      "text/plain": [
       "(10868,)"
      ]
     },
     "execution_count": 12,
     "metadata": {},
     "output_type": "execute_result"
    }
   ],
   "source": [
    "y.shape"
   ]
  },
  {
   "cell_type": "code",
   "execution_count": 14,
   "metadata": {},
   "outputs": [],
   "source": [
    "bytes_fetaures=np.load('/home/sanjeev/DL_Exp_Malware/DL_Prasad_Exp/Microsoft_PoC/Experiment_2/bytes_plots/MobileNetV3_Large_X.npy')"
   ]
  },
  {
   "cell_type": "code",
   "execution_count": 16,
   "metadata": {},
   "outputs": [
    {
     "data": {
      "text/plain": [
       "(10868, 1024)"
      ]
     },
     "execution_count": 16,
     "metadata": {},
     "output_type": "execute_result"
    }
   ],
   "source": [
    "bytes_fetaures.shape"
   ]
  },
  {
   "cell_type": "markdown",
   "metadata": {},
   "source": [
    "## spliting data"
   ]
  },
  {
   "cell_type": "code",
   "execution_count": 17,
   "metadata": {},
   "outputs": [],
   "source": [
    "X_asm_train,X_asm_test,X_byte_train,X_byte_test,y_train,y_test=train_test_split(asm_features,bytes_fetaures,y,test_size=0.3,random_state=42,stratify=y)"
   ]
  },
  {
   "cell_type": "code",
   "execution_count": 18,
   "metadata": {},
   "outputs": [
    {
     "name": "stdout",
     "output_type": "stream",
     "text": [
      "Training samples: 7607\n",
      "Test samples: 3261\n"
     ]
    }
   ],
   "source": [
    "\n",
    "print(f\"Training samples: {len(X_asm_train)}\")\n",
    "print(f\"Test samples: {len(X_asm_test)}\")"
   ]
  },
  {
   "cell_type": "markdown",
   "metadata": {},
   "source": [
    "## startegy 1:only for asm features ensemble voting weith mobilent v3 large "
   ]
  },
  {
   "cell_type": "code",
   "execution_count": 19,
   "metadata": {},
   "outputs": [
    {
     "name": "stdout",
     "output_type": "stream",
     "text": [
      "\n",
      "==================================================\n",
      "STRATEGY 1: ASM FEATURES ONLY\n",
      "==================================================\n"
     ]
    }
   ],
   "source": [
    "print(\"\\n\" + \"=\"*50)\n",
    "print(\"STRATEGY 1: ASM FEATURES ONLY\")\n",
    "print(\"=\"*50)"
   ]
  },
  {
   "cell_type": "code",
   "execution_count": 22,
   "metadata": {},
   "outputs": [],
   "source": [
    "asm_scaler = StandardScaler()\n",
    "X_asm_train_scaled = asm_scaler.fit_transform(X_asm_train)\n",
    "X_asm_test_scaled = asm_scaler.transform(X_asm_test)"
   ]
  },
  {
   "cell_type": "code",
   "execution_count": 25,
   "metadata": {},
   "outputs": [
    {
     "name": "stdout",
     "output_type": "stream",
     "text": [
      "CPU times: user 13.9 s, sys: 0 ns, total: 13.9 s\n",
      "Wall time: 13.9 s\n"
     ]
    },
    {
     "data": {
      "text/plain": [
       "RandomForestClassifier(random_state=42)"
      ]
     },
     "execution_count": 25,
     "metadata": {},
     "output_type": "execute_result"
    }
   ],
   "source": [
    "%%time\n",
    "# Train models on ASM features\n",
    "rf_asm = RandomForestClassifier(n_estimators=100, random_state=42)\n",
    "rf_asm.fit(X_asm_train_scaled, y_train)\n"
   ]
  },
  {
   "cell_type": "code",
   "execution_count": 26,
   "metadata": {},
   "outputs": [
    {
     "name": "stdout",
     "output_type": "stream",
     "text": [
      "CPU times: user 111 ms, sys: 11.2 ms, total: 122 ms\n",
      "Wall time: 120 ms\n"
     ]
    }
   ],
   "source": [
    "%%time\n",
    "rf_asm_pred = rf_asm.predict(X_asm_test_scaled)"
   ]
  },
  {
   "cell_type": "code",
   "execution_count": 27,
   "metadata": {},
   "outputs": [
    {
     "data": {
      "text/plain": [
       "array(['Gatak', 'Obfuscator.ACY', 'Ramnit', ..., 'Obfuscator.ACY',\n",
       "       'Kelihos_ver3', 'Kelihos_ver3'], dtype='<U14')"
      ]
     },
     "execution_count": 27,
     "metadata": {},
     "output_type": "execute_result"
    }
   ],
   "source": [
    "rf_asm_pred"
   ]
  },
  {
   "cell_type": "code",
   "execution_count": 31,
   "metadata": {},
   "outputs": [],
   "source": [
    "rf_asm_acc = accuracy_score(y_test, rf_asm_pred)"
   ]
  },
  {
   "cell_type": "code",
   "execution_count": 32,
   "metadata": {},
   "outputs": [
    {
     "data": {
      "text/plain": [
       "0.8880711438209138"
      ]
     },
     "execution_count": 32,
     "metadata": {},
     "output_type": "execute_result"
    }
   ],
   "source": [
    "rf_asm_acc"
   ]
  },
  {
   "cell_type": "code",
   "execution_count": 29,
   "metadata": {},
   "outputs": [
    {
     "name": "stdout",
     "output_type": "stream",
     "text": [
      "training Accuracy: 100.0\n",
      "CPU times: user 240 ms, sys: 2.59 ms, total: 242 ms\n",
      "Wall time: 241 ms\n"
     ]
    }
   ],
   "source": [
    "%%time\n",
    "print(\"training Accuracy:\", round((rf_asm.score(X_asm_train_scaled, y_train) * 100), 2))"
   ]
  },
  {
   "cell_type": "code",
   "execution_count": 30,
   "metadata": {},
   "outputs": [
    {
     "name": "stdout",
     "output_type": "stream",
     "text": [
      "Testing Accuracy: 88.81\n",
      "CPU times: user 116 ms, sys: 2.7 ms, total: 119 ms\n",
      "Wall time: 117 ms\n"
     ]
    }
   ],
   "source": [
    "%%time\n",
    "print(\"Testing Accuracy:\", round((rf_asm.score(X_asm_test_scaled, y_test) * 100), 2))"
   ]
  },
  {
   "cell_type": "code",
   "execution_count": 33,
   "metadata": {},
   "outputs": [],
   "source": [
    "gb_asm = GradientBoostingClassifier(n_estimators=100, random_state=42)"
   ]
  },
  {
   "cell_type": "code",
   "execution_count": 34,
   "metadata": {},
   "outputs": [
    {
     "name": "stdout",
     "output_type": "stream",
     "text": [
      "CPU times: user 21min 58s, sys: 74.2 ms, total: 21min 58s\n",
      "Wall time: 21min 58s\n"
     ]
    },
    {
     "data": {
      "text/plain": [
       "GradientBoostingClassifier(random_state=42)"
      ]
     },
     "execution_count": 34,
     "metadata": {},
     "output_type": "execute_result"
    }
   ],
   "source": [
    "%%time\n",
    "gb_asm.fit(X_asm_train_scaled, y_train)"
   ]
  },
  {
   "cell_type": "code",
   "execution_count": 35,
   "metadata": {},
   "outputs": [
    {
     "name": "stdout",
     "output_type": "stream",
     "text": [
      "CPU times: user 81.8 ms, sys: 7.96 ms, total: 89.8 ms\n",
      "Wall time: 87.4 ms\n"
     ]
    }
   ],
   "source": [
    "%%time\n",
    "gb_asm_pred = gb_asm.predict(X_asm_test_scaled)"
   ]
  },
  {
   "cell_type": "code",
   "execution_count": 36,
   "metadata": {},
   "outputs": [
    {
     "name": "stdout",
     "output_type": "stream",
     "text": [
      "CPU times: user 5.83 ms, sys: 11 µs, total: 5.84 ms\n",
      "Wall time: 4.44 ms\n"
     ]
    }
   ],
   "source": [
    "%%time\n",
    "gb_asm_acc = accuracy_score(y_test, gb_asm_pred)"
   ]
  },
  {
   "cell_type": "code",
   "execution_count": 37,
   "metadata": {},
   "outputs": [
    {
     "data": {
      "text/plain": [
       "0.8856179086169886"
      ]
     },
     "execution_count": 37,
     "metadata": {},
     "output_type": "execute_result"
    }
   ],
   "source": [
    "gb_asm_acc"
   ]
  },
  {
   "cell_type": "code",
   "execution_count": 40,
   "metadata": {},
   "outputs": [
    {
     "name": "stdout",
     "output_type": "stream",
     "text": [
      "CPU times: user 57.5 s, sys: 76 ms, total: 57.6 s\n",
      "Wall time: 57.6 s\n"
     ]
    },
    {
     "data": {
      "text/plain": [
       "SVC(probability=True, random_state=42)"
      ]
     },
     "execution_count": 40,
     "metadata": {},
     "output_type": "execute_result"
    }
   ],
   "source": [
    "%%time\n",
    "svm_asm = SVC(kernel='rbf', probability=True, random_state=42)\n",
    "svm_asm.fit(X_asm_train_scaled, y_train)\n"
   ]
  },
  {
   "cell_type": "code",
   "execution_count": 42,
   "metadata": {},
   "outputs": [
    {
     "name": "stdout",
     "output_type": "stream",
     "text": [
      "CPU times: user 8.5 s, sys: 8.01 ms, total: 8.51 s\n",
      "Wall time: 8.51 s\n"
     ]
    }
   ],
   "source": [
    "%%time\n",
    "svm_asm_pred = svm_asm.predict(X_asm_test_scaled)"
   ]
  },
  {
   "cell_type": "code",
   "execution_count": 43,
   "metadata": {},
   "outputs": [
    {
     "name": "stdout",
     "output_type": "stream",
     "text": [
      "CPU times: user 3.61 ms, sys: 12 µs, total: 3.62 ms\n",
      "Wall time: 2.31 ms\n"
     ]
    }
   ],
   "source": [
    "%%time\n",
    "svm_asm_acc = accuracy_score(y_test, svm_asm_pred)"
   ]
  },
  {
   "cell_type": "code",
   "execution_count": 44,
   "metadata": {},
   "outputs": [
    {
     "data": {
      "text/plain": [
       "0.8920576510272923"
      ]
     },
     "execution_count": 44,
     "metadata": {},
     "output_type": "execute_result"
    }
   ],
   "source": [
    "svm_asm_acc"
   ]
  },
  {
   "cell_type": "code",
   "execution_count": 45,
   "metadata": {},
   "outputs": [
    {
     "name": "stdout",
     "output_type": "stream",
     "text": [
      "Random Forest accuracy: 0.8881\n",
      "Gradient Boosting accuracy: 0.8856\n",
      "SVM accuracy: 0.8921\n"
     ]
    }
   ],
   "source": [
    "print(f\"Random Forest accuracy: {rf_asm_acc:.4f}\")\n",
    "print(f\"Gradient Boosting accuracy: {gb_asm_acc:.4f}\")\n",
    "print(f\"SVM accuracy: {svm_asm_acc:.4f}\")\n"
   ]
  },
  {
   "cell_type": "markdown",
   "metadata": {},
   "source": [
    "### Ensemble voting for ASM\n",
    "### Hard voting"
   ]
  },
  {
   "cell_type": "code",
   "execution_count": 48,
   "metadata": {},
   "outputs": [
    {
     "name": "stdout",
     "output_type": "stream",
     "text": [
      "CPU times: user 990 µs, sys: 0 ns, total: 990 µs\n",
      "Wall time: 879 µs\n"
     ]
    }
   ],
   "source": [
    "%%time\n",
    "asm_preds = np.column_stack([rf_asm_pred, gb_asm_pred, svm_asm_pred])"
   ]
  },
  {
   "cell_type": "code",
   "execution_count": 49,
   "metadata": {},
   "outputs": [
    {
     "data": {
      "text/plain": [
       "array([['Gatak', 'Gatak', 'Gatak'],\n",
       "       ['Obfuscator.ACY', 'Obfuscator.ACY', 'Obfuscator.ACY'],\n",
       "       ['Ramnit', 'Ramnit', 'Ramnit'],\n",
       "       ...,\n",
       "       ['Obfuscator.ACY', 'Obfuscator.ACY', 'Obfuscator.ACY'],\n",
       "       ['Kelihos_ver3', 'Kelihos_ver3', 'Kelihos_ver3'],\n",
       "       ['Kelihos_ver3', 'Kelihos_ver3', 'Kelihos_ver3']], dtype='<U14')"
      ]
     },
     "execution_count": 49,
     "metadata": {},
     "output_type": "execute_result"
    }
   ],
   "source": [
    "asm_preds"
   ]
  },
  {
   "cell_type": "code",
   "execution_count": 97,
   "metadata": {},
   "outputs": [],
   "source": [
    "asm_hard_vote = []\n",
    "for row in asm_preds:\n",
    "    unique, counts = np.unique(row, return_counts=True)\n",
    "    majority_class = unique[np.argmax(counts)]\n",
    "    asm_hard_vote.append(majority_class)\n",
    "asm_hard_vote = np.array(asm_hard_vote)\n",
    "asm_hard_acc = accuracy_score(y_test, asm_hard_vote)\n"
   ]
  },
  {
   "cell_type": "code",
   "execution_count": 98,
   "metadata": {},
   "outputs": [
    {
     "data": {
      "text/plain": [
       "array(['Gatak', 'Obfuscator.ACY', 'Ramnit', ..., 'Obfuscator.ACY',\n",
       "       'Kelihos_ver3', 'Kelihos_ver3'], dtype='<U14')"
      ]
     },
     "execution_count": 98,
     "metadata": {},
     "output_type": "execute_result"
    }
   ],
   "source": [
    "asm_hard_vote"
   ]
  },
  {
   "cell_type": "markdown",
   "metadata": {},
   "source": [
    "### # Soft voting"
   ]
  },
  {
   "cell_type": "code",
   "execution_count": 99,
   "metadata": {},
   "outputs": [],
   "source": [
    "rf_asm_proba = rf_asm.predict_proba(X_asm_test_scaled)\n",
    "gb_asm_proba = gb_asm.predict_proba(X_asm_test_scaled)\n",
    "svm_asm_proba = svm_asm.predict_proba(X_asm_test_scaled)\n",
    "asm_avg_proba = (rf_asm_proba + gb_asm_proba + svm_asm_proba) / 3\n",
    "asm_soft_vote = np.argmax(asm_avg_proba, axis=1)\n",
    "asm_soft_acc = accuracy_score(y_test_fixed, asm_soft_vote)"
   ]
  },
  {
   "cell_type": "code",
   "execution_count": 100,
   "metadata": {},
   "outputs": [
    {
     "name": "stdout",
     "output_type": "stream",
     "text": [
      "Hard Voting accuracy: 0.8964\n",
      "Soft Voting accuracy: 0.8970\n"
     ]
    }
   ],
   "source": [
    "print(f\"Hard Voting accuracy: {asm_hard_acc:.4f}\")\n",
    "print(f\"Soft Voting accuracy: {asm_soft_acc:.4f}\")"
   ]
  },
  {
   "cell_type": "markdown",
   "metadata": {},
   "source": [
    "## bytes voting"
   ]
  },
  {
   "cell_type": "code",
   "execution_count": 101,
   "metadata": {},
   "outputs": [
    {
     "name": "stdout",
     "output_type": "stream",
     "text": [
      "\n",
      "==================================================\n",
      "STRATEGY 2:BYTE FEATURES ONLY\n",
      "==================================================\n"
     ]
    }
   ],
   "source": [
    "print(\"\\n\" + \"=\"*50)\n",
    "print(\"STRATEGY 2:BYTE FEATURES ONLY\")\n",
    "print(\"=\"*50)"
   ]
  },
  {
   "cell_type": "code",
   "execution_count": 67,
   "metadata": {},
   "outputs": [
    {
     "name": "stdout",
     "output_type": "stream",
     "text": [
      "Random Forest accuracy: 0.9144\n",
      "Gradient Boosting accuracy: 0.8767\n",
      "SVM accuracy: 0.8657\n"
     ]
    }
   ],
   "source": [
    "# Scale byte features\n",
    "byte_scaler = StandardScaler()\n",
    "X_byte_train_scaled = byte_scaler.fit_transform(X_byte_train)\n",
    "X_byte_test_scaled = byte_scaler.transform(X_byte_test)\n",
    "\n",
    "# Train models on byte features\n",
    "rf_byte = RandomForestClassifier(n_estimators=100, random_state=42)\n",
    "rf_byte.fit(X_byte_train_scaled, y_train)\n",
    "rf_byte_pred = rf_byte.predict(X_byte_test_scaled)\n",
    "rf_byte_acc = accuracy_score(y_test, rf_byte_pred)\n",
    "\n",
    "gb_byte = GradientBoostingClassifier(n_estimators=100, random_state=42)\n",
    "gb_byte.fit(X_byte_train_scaled, y_train)\n",
    "gb_byte_pred = gb_byte.predict(X_byte_test_scaled)\n",
    "gb_byte_acc = accuracy_score(y_test, gb_byte_pred)\n",
    "\n",
    "svm_byte = SVC(kernel='rbf', probability=True, random_state=42)\n",
    "svm_byte.fit(X_byte_train_scaled, y_train)\n",
    "svm_byte_pred = svm_byte.predict(X_byte_test_scaled)\n",
    "svm_byte_acc = accuracy_score(y_test, svm_byte_pred)\n",
    "\n",
    "print(f\"Random Forest accuracy: {rf_byte_acc:.4f}\")\n",
    "print(f\"Gradient Boosting accuracy: {gb_byte_acc:.4f}\")\n",
    "print(f\"SVM accuracy: {svm_byte_acc:.4f}\")\n"
   ]
  },
  {
   "cell_type": "code",
   "execution_count": 92,
   "metadata": {},
   "outputs": [
    {
     "name": "stdout",
     "output_type": "stream",
     "text": [
      "Hard Voting accuracy: 0.8954\n",
      "Soft Voting accuracy: 0.8942\n"
     ]
    }
   ],
   "source": [
    "# Ensemble voting for byte features\n",
    "# Hard voting\n",
    "byte_preds = np.column_stack([rf_byte_pred, gb_byte_pred, svm_byte_pred])\n",
    "byte_hard_vote = []\n",
    "for row in byte_preds:\n",
    "    unique, counts = np.unique(row, return_counts=True)\n",
    "    majority_class = unique[np.argmax(counts)]\n",
    "    byte_hard_vote.append(majority_class)\n",
    "byte_hard_vote = np.array(byte_hard_vote)\n",
    "byte_hard_acc = accuracy_score(y_test, byte_hard_vote)\n",
    "\n",
    "# Soft voting\n",
    "rf_byte_proba = rf_byte.predict_proba(X_byte_test_scaled)\n",
    "gb_byte_proba = gb_byte.predict_proba(X_byte_test_scaled)\n",
    "svm_byte_proba = svm_byte.predict_proba(X_byte_test_scaled)\n",
    "byte_avg_proba = (rf_byte_proba + gb_byte_proba + svm_byte_proba) / 3\n",
    "byte_soft_vote = np.argmax(byte_avg_proba, axis=1)\n",
    "byte_soft_acc = accuracy_score(y_test_fixed, byte_soft_vote)\n",
    "\n",
    "print(f\"Hard Voting accuracy: {byte_hard_acc:.4f}\")\n",
    "print(f\"Soft Voting accuracy: {byte_soft_acc:.4f}\")\n"
   ]
  },
  {
   "cell_type": "markdown",
   "metadata": {},
   "source": [
    "## stacked\n"
   ]
  },
  {
   "cell_type": "code",
   "execution_count": 71,
   "metadata": {},
   "outputs": [],
   "source": [
    "fused_features = np.concatenate([asm_features, bytes_fetaures], axis=1)"
   ]
  },
  {
   "cell_type": "code",
   "execution_count": 73,
   "metadata": {},
   "outputs": [
    {
     "name": "stdout",
     "output_type": "stream",
     "text": [
      "\n",
      "==================================================\n",
      "STRATEGY 3: EARLY FUSION (CONCATENATION)\n",
      "==================================================\n",
      "Fused features shape: (7607, 2048)\n"
     ]
    }
   ],
   "source": [
    "print(\"\\n\" + \"=\"*50)\n",
    "print(\"STRATEGY 3: EARLY FUSION (CONCATENATION)\")\n",
    "print(\"=\"*50)\n",
    "\n",
    "# Scale features separately then concatenate\n",
    "asm_scaler_fusion = StandardScaler()\n",
    "byte_scaler_fusion = StandardScaler()\n",
    "\n",
    "X_asm_train_scaled_fusion = asm_scaler_fusion.fit_transform(X_asm_train)\n",
    "X_asm_test_scaled_fusion = asm_scaler_fusion.transform(X_asm_test)\n",
    "\n",
    "X_byte_train_scaled_fusion = byte_scaler_fusion.fit_transform(X_byte_train)\n",
    "X_byte_test_scaled_fusion = byte_scaler_fusion.transform(X_byte_test)\n",
    "\n",
    "# Concatenate features\n",
    "X_train_fused = np.hstack([X_asm_train_scaled_fusion, X_byte_train_scaled_fusion])\n",
    "X_test_fused = np.hstack([X_asm_test_scaled_fusion, X_byte_test_scaled_fusion])\n",
    "\n",
    "# Final scaling\n",
    "fusion_scaler = StandardScaler()\n",
    "X_train_fused = fusion_scaler.fit_transform(X_train_fused)\n",
    "X_test_fused = fusion_scaler.transform(X_test_fused)\n",
    "\n",
    "print(f\"Fused features shape: {X_train_fused.shape}\")"
   ]
  },
  {
   "cell_type": "code",
   "execution_count": 74,
   "metadata": {},
   "outputs": [],
   "source": [
    "rf_fused = RandomForestClassifier(n_estimators=100, random_state=42)\n",
    "rf_fused.fit(X_train_fused, y_train)\n",
    "rf_fused_pred = rf_fused.predict(X_test_fused)\n",
    "rf_fused_acc = accuracy_score(y_test, rf_fused_pred)\n"
   ]
  },
  {
   "cell_type": "code",
   "execution_count": 75,
   "metadata": {},
   "outputs": [
    {
     "data": {
      "text/plain": [
       "0.9408157007053051"
      ]
     },
     "execution_count": 75,
     "metadata": {},
     "output_type": "execute_result"
    }
   ],
   "source": [
    "rf_fused_acc"
   ]
  },
  {
   "cell_type": "code",
   "execution_count": 77,
   "metadata": {},
   "outputs": [
    {
     "name": "stdout",
     "output_type": "stream",
     "text": [
      "CPU times: user 44min 36s, sys: 320 ms, total: 44min 36s\n",
      "Wall time: 44min 37s\n"
     ]
    }
   ],
   "source": [
    "%%time\n",
    "gb_fused = GradientBoostingClassifier(n_estimators=100, random_state=42)\n",
    "gb_fused.fit(X_train_fused, y_train)\n",
    "gb_fused_pred = gb_fused.predict(X_test_fused)\n",
    "gb_fused_acc = accuracy_score(y_test, gb_fused_pred)"
   ]
  },
  {
   "cell_type": "code",
   "execution_count": 78,
   "metadata": {},
   "outputs": [
    {
     "data": {
      "text/plain": [
       "0.9310027598896045"
      ]
     },
     "execution_count": 78,
     "metadata": {},
     "output_type": "execute_result"
    }
   ],
   "source": [
    "gb_fused_acc"
   ]
  },
  {
   "cell_type": "code",
   "execution_count": 79,
   "metadata": {},
   "outputs": [
    {
     "name": "stdout",
     "output_type": "stream",
     "text": [
      "CPU times: user 2min 21s, sys: 112 ms, total: 2min 22s\n",
      "Wall time: 2min 22s\n"
     ]
    }
   ],
   "source": [
    "%%time\n",
    "svm_fused = SVC(kernel='rbf', probability=True, random_state=42)\n",
    "svm_fused.fit(X_train_fused, y_train)\n",
    "svm_fused_pred = svm_fused.predict(X_test_fused)\n",
    "svm_fused_acc = accuracy_score(y_test, svm_fused_pred)\n"
   ]
  },
  {
   "cell_type": "code",
   "execution_count": 80,
   "metadata": {},
   "outputs": [
    {
     "name": "stdout",
     "output_type": "stream",
     "text": [
      "Random Forest accuracy: 0.9408\n",
      "Gradient Boosting accuracy: 0.9310\n",
      "SVM accuracy: 0.9399\n"
     ]
    }
   ],
   "source": [
    "print(f\"Random Forest accuracy: {rf_fused_acc:.4f}\")\n",
    "print(f\"Gradient Boosting accuracy: {gb_fused_acc:.4f}\")\n",
    "print(f\"SVM accuracy: {svm_fused_acc:.4f}\")\n"
   ]
  },
  {
   "cell_type": "code",
   "execution_count": 90,
   "metadata": {},
   "outputs": [],
   "source": [
    "# Hard voting\n",
    "fused_preds = np.column_stack([rf_fused_pred, gb_fused_pred, svm_fused_pred])\n",
    "fused_hard_vote = []\n",
    "for row in fused_preds:\n",
    "    unique, counts = np.unique(row, return_counts=True)\n",
    "    majority_class = unique[np.argmax(counts)]\n",
    "    fused_hard_vote.append(majority_class)\n",
    "fused_hard_vote = np.array(fused_hard_vote)\n",
    "fused_hard_acc = accuracy_score(y_test, fused_hard_vote)\n"
   ]
  },
  {
   "cell_type": "code",
   "execution_count": 91,
   "metadata": {},
   "outputs": [
    {
     "data": {
      "text/plain": [
       "0.9432689359092303"
      ]
     },
     "execution_count": 91,
     "metadata": {},
     "output_type": "execute_result"
    }
   ],
   "source": [
    "fused_hard_acc"
   ]
  },
  {
   "cell_type": "code",
   "execution_count": 88,
   "metadata": {},
   "outputs": [],
   "source": [
    "# Soft voting\n",
    "rf_fused_proba = rf_fused.predict_proba(X_test_fused)\n",
    "gb_fused_proba = gb_fused.predict_proba(X_test_fused)\n",
    "svm_fused_proba = svm_fused.predict_proba(X_test_fused)\n",
    "fused_avg_proba = (rf_fused_proba + gb_fused_proba + svm_fused_proba) / 3\n",
    "fused_soft_vote = np.argmax(fused_avg_proba, axis=1)\n",
    "fused_soft_acc = accuracy_score(y_test_fixed, fused_soft_vote)\n"
   ]
  },
  {
   "cell_type": "code",
   "execution_count": 89,
   "metadata": {},
   "outputs": [
    {
     "data": {
      "text/plain": [
       "0.9466421343146274"
      ]
     },
     "execution_count": 89,
     "metadata": {},
     "output_type": "execute_result"
    }
   ],
   "source": [
    "fused_soft_acc"
   ]
  },
  {
   "cell_type": "code",
   "execution_count": 93,
   "metadata": {},
   "outputs": [
    {
     "name": "stdout",
     "output_type": "stream",
     "text": [
      "Hard Voting accuracy: 0.9433\n",
      "Soft Voting accuracy: 0.9466\n"
     ]
    }
   ],
   "source": [
    "print(f\"Hard Voting accuracy: {fused_hard_acc:.4f}\")\n",
    "print(f\"Soft Voting accuracy: {fused_soft_acc:.4f}\")"
   ]
  },
  {
   "cell_type": "code",
   "execution_count": null,
   "metadata": {},
   "outputs": [],
   "source": []
  }
 ],
 "metadata": {
  "kernelspec": {
   "display_name": "Python 3",
   "language": "python",
   "name": "python3"
  },
  "language_info": {
   "codemirror_mode": {
    "name": "ipython",
    "version": 3
   },
   "file_extension": ".py",
   "mimetype": "text/x-python",
   "name": "python",
   "nbconvert_exporter": "python",
   "pygments_lexer": "ipython3",
   "version": "3.7.4"
  }
 },
 "nbformat": 4,
 "nbformat_minor": 2
}
